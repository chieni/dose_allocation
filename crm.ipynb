{
 "cells": [
  {
   "cell_type": "code",
   "execution_count": 4,
   "metadata": {},
   "outputs": [],
   "source": [
    "import arviz as az\n",
    "import matplotlib as mpl\n",
    "import pandas as pd\n",
    "import matplotlib.pyplot as plt\n",
    "import numpy as np\n",
    "from scipy import stats\n",
    "\n",
    "import pymc as pm\n",
    "from sklearn.preprocessing import scale\n",
    "import seaborn as sns\n",
    "\n",
    "%matplotlib inline"
   ]
  },
  {
   "cell_type": "code",
   "execution_count": 25,
   "metadata": {},
   "outputs": [],
   "source": [
    "\n",
    "\n",
    "class CRM:\n",
    "    def __init__(self, num_patients, num_doses):\n",
    "        self.num_patients = num_patients\n",
    "        self.num_doses = num_doses\n",
    "        self.allocated_doses = np.ones(self.num_patients, dtype=int) * -1\n",
    "\n",
    "    def tangent_model(dose_label, alpha):\n",
    "        return ((np.tanh(dose_label) + 1.) / 2.) ** alpha\n",
    "    \n",
    "    def logistic_model(dose_label, alpha, beta):\n",
    "        '''\n",
    "        alpha: intercept\n",
    "        beta: \n",
    "        '''\n",
    "        return (np.exp(alpha + dose_label * np.exp(beta)))\\\n",
    "                / (1. + np.exp(alpha + dose_label * np.exp(beta)))\n",
    "    \n",
    "    def init_tangent_labels(p_true_val, a0):\n",
    "        x = (p_true_val ** (1. / a0) * 2. - 1.)\n",
    "        return 1./2. * np.log((1. + x)/(1. - x))\n",
    "    \n",
    "    def init_logistic_labels(p_true_val, a0, b0):\n",
    "        return (np.log(p_true_val / (1. - p_true_val)) - a0) / np.exp(b0)\n",
    "\n",
    "    def gen_patients(self, arr_rate):\n",
    "        '''\n",
    "        Generates all patients for an experiment of length T\n",
    "        '''\n",
    "        # Arrival proportion of each subgroup. If arrive_rate = [5, 4, 3],\n",
    "        # arrive_dist = [5/12, 4/12, 3/12]\n",
    "        arrive_sum = sum(arr_rate)\n",
    "        arrive_dist = [rate/arrive_sum for rate in arr_rate]\n",
    "        arrive_dist.insert(0, 0)\n",
    "\n",
    "        # [0, 5/12, 9/12, 12/12]\n",
    "        arrive_dist_bins = np.cumsum(arrive_dist)\n",
    "\n",
    "        # Random numbers between 0 and 1 in an array of shape (1, T)\n",
    "        patients_gen = np.random.rand(self.num_patients)\n",
    "        patients = np.digitize(patients_gen, arrive_dist_bins) - 1\n",
    "        return patients\n",
    "\n",
    "    def from_posterior(param, samples):\n",
    "        smin, smax = np.min(samples), np.max(samples)\n",
    "        width = smax - smin\n",
    "        x = np.linspace(smin, smax, 100)\n",
    "        samples = samples[0]\n",
    "        y = stats.gaussian_kde(samples)(x)\n",
    "\n",
    "        # what was never sampled should have a small probability but not 0,\n",
    "        # so we'll extend the domain and use linear approximation of density on it\n",
    "        x = np.concatenate([[x[0] - 3 * width], x, [x[-1] + 3 * width]])\n",
    "        y = np.concatenate([[0], y, [0]])\n",
    "        return pm.Interpolated(param, x, y)\n",
    "    \n",
    "    def plot_dose_toxicity_curve(dose_labels, p_true, alpha):\n",
    "        sns.set_theme()\n",
    "        model_toxicities = CRM.tangent_model(dose_labels, alpha)\n",
    "        frame = pd.DataFrame({'dose_labels': dose_labels,\n",
    "                              'model': model_toxicities,\n",
    "                              'true': p_true.mean(axis=0)})\n",
    "        frame = pd.melt(frame, id_vars=['dose_labels'], var_name='toxicity', value_name='toxicity_value')\n",
    "        sns.lineplot(data=frame, x='dose_labels', y='toxicity_value', hue='toxicity', markers=True)\n",
    "\n",
    "    def run_trial(self, dose_labels, patients, p_true, tox_thre):\n",
    "        cohort_size = 3\n",
    "        max_dose = 0\n",
    "        timestep = 0\n",
    "        curr_s = patients[:cohort_size]\n",
    "\n",
    "        # Assign first patient to lowest dose level\n",
    "        self.allocated_doses[:cohort_size] = 0\n",
    "        X = np.array([dose_labels[0] for patient_idx in range(cohort_size)])\n",
    "\n",
    "        # Sample toxicity\n",
    "        Y = np.array([int(np.random.rand() <= p_true[subgroup_idx, self.allocated_doses[timestep]]) for subgroup_idx in curr_s])\n",
    "\n",
    "        model = pm.Model()\n",
    "        with model:\n",
    "            # Prior of parameters\n",
    "            alpha = pm.Gamma(\"alpha\", 1, 1)\n",
    "\n",
    "            # Expected value of outcome: dose-toxicity model\n",
    "            toxicity_prob = CRM.tangent_model(X, alpha)\n",
    "\n",
    "            # Likelihood (sampling dist) of observations\n",
    "            Y_obs = pm.Bernoulli(\"Y_obs\", toxicity_prob, observed=Y)\n",
    "\n",
    "            # Draw 1000 posterior samples\n",
    "            trace = pm.sample(25000, cores=1, target_accept=0.95)\n",
    "            print(az.summary(trace, round_to=2))\n",
    "\n",
    "            current_alpha_dist = trace.posterior['alpha']\n",
    "            expected_toxicities = CRM.tangent_model(dose_labels, 1. / np.e)\n",
    "            print(expected_toxicities)\n",
    "            CRM.plot_dose_toxicity_curve(dose_labels, p_true, current_alpha_dist.values.mean())\n",
    "            plt.show()\n",
    "\n",
    "        timestep += cohort_size\n",
    "\n",
    "        while timestep < self.num_patients:\n",
    "            # Sample more data\n",
    "            curr_s = patients[timestep - cohort_size:timestep]\n",
    "            print(f\"curr_s: {curr_s}\")\n",
    "\n",
    "            # If skipping doses is allowed, assign to the dose whose expected toxicity\n",
    "            # under the posterior dist is closest to the threshold.\n",
    "            expected_toxicities = CRM.tangent_model(dose_labels, current_alpha_dist.values.mean())\n",
    "            selected_dose = np.abs(np.array(expected_toxicities) - tox_thre).argmin()\n",
    "            if selected_dose > max_dose + 1:\n",
    "                selected_dose = max_dose + 1\n",
    "                max_dose = selected_dose\n",
    "            print(expected_toxicities)\n",
    "            print(f\"Selected dose: {selected_dose}\")\n",
    "            self.allocated_doses[:cohort_size] = selected_dose\n",
    "            X = np.array([dose_labels[selected_dose] for patient_idx in range(cohort_size)])\n",
    "            # Sample toxicity\n",
    "            Y = np.array([int(np.random.rand() <= p_true[subgroup_idx, self.allocated_doses[timestep]]) for subgroup_idx in curr_s])\n",
    "            print(X, Y)\n",
    "            model = pm.Model()\n",
    "            with model:\n",
    "                # Priors are posteriors from previous iteration\n",
    "                alpha = CRM.from_posterior(\"alpha\", trace.posterior[\"alpha\"])\n",
    "\n",
    "                # Expected value of outcome: dose-toxicity model\n",
    "                toxicity_prob = CRM.tangent_model(X, alpha)\n",
    "\n",
    "                # Likelihood (sampling dist) of observations\n",
    "                Y_obs = pm.Bernoulli(\"Y_obs\", toxicity_prob, observed=Y)\n",
    "\n",
    "                # draw 10000 posterior samples\n",
    "                trace = pm.sample(25000, cores=1, target_accept=0.95)\n",
    "                    \n",
    "                print(az.summary(trace, round_to=2))\n",
    "                current_alpha_dist = trace.posterior['alpha']\n",
    "                print(current_alpha_dist.values.mean())\n",
    "                CRM.plot_dose_toxicity_curve(dose_labels, p_true, current_alpha_dist.values.mean())\n",
    "                plt.show()\n",
    "\n",
    "            timestep += cohort_size\n",
    "\n",
    "                \n",
    "def main():\n",
    "    tox_thre = 0.35\n",
    "    # toxicity\n",
    "    p_true = np.array([[0.01, 0.01, 0.05, 0.15, 0.20, 0.45],\n",
    "                    [0.01, 0.05, 0.15, 0.20, 0.45, 0.60],\n",
    "                    [0.01, 0.05, 0.15, 0.20, 0.45, 0.60]])\n",
    "    arr_rate = [5, 4, 3]\n",
    "    crm = CRM(30, 5)\n",
    "    dose_skeleton = np.mean(p_true, axis=0)\n",
    "    dose_labels = CRM.init_tangent_labels(dose_skeleton, 1. / np.e)\n",
    "    patients = crm.gen_patients(arr_rate)\n",
    "    crm.run_trial(dose_labels, patients, p_true, tox_thre)\n",
    "\n"
   ]
  },
  {
   "cell_type": "code",
   "execution_count": 26,
   "metadata": {},
   "outputs": [
    {
     "name": "stderr",
     "output_type": "stream",
     "text": [
      "Auto-assigning NUTS sampler...\n",
      "Initializing NUTS using jitter+adapt_diag...\n",
      "Sequential sampling (2 chains in 1 job)\n",
      "NUTS: [alpha]\n"
     ]
    },
    {
     "data": {
      "text/html": [
       "\n",
       "<style>\n",
       "    /* Turns off some styling */\n",
       "    progress {\n",
       "        /* gets rid of default border in Firefox and Opera. */\n",
       "        border: none;\n",
       "        /* Needs to be in here for Safari polyfill so background images work as expected. */\n",
       "        background-size: auto;\n",
       "    }\n",
       "    progress:not([value]), progress:not([value])::-webkit-progress-bar {\n",
       "        background: repeating-linear-gradient(45deg, #7e7e7e, #7e7e7e 10px, #5c5c5c 10px, #5c5c5c 20px);\n",
       "    }\n",
       "    .progress-bar-interrupted, .progress-bar-interrupted::-webkit-progress-bar {\n",
       "        background: #F44336;\n",
       "    }\n",
       "</style>\n"
      ],
      "text/plain": [
       "<IPython.core.display.HTML object>"
      ]
     },
     "metadata": {},
     "output_type": "display_data"
    },
    {
     "data": {
      "text/html": [
       "\n",
       "    <div>\n",
       "      <progress value='26000' class='' max='26000' style='width:300px; height:20px; vertical-align: middle;'></progress>\n",
       "      100.00% [26000/26000 00:15&lt;00:00 Sampling chain 0, 0 divergences]\n",
       "    </div>\n",
       "    "
      ],
      "text/plain": [
       "<IPython.core.display.HTML object>"
      ]
     },
     "metadata": {},
     "output_type": "display_data"
    },
    {
     "data": {
      "text/html": [
       "\n",
       "<style>\n",
       "    /* Turns off some styling */\n",
       "    progress {\n",
       "        /* gets rid of default border in Firefox and Opera. */\n",
       "        border: none;\n",
       "        /* Needs to be in here for Safari polyfill so background images work as expected. */\n",
       "        background-size: auto;\n",
       "    }\n",
       "    progress:not([value]), progress:not([value])::-webkit-progress-bar {\n",
       "        background: repeating-linear-gradient(45deg, #7e7e7e, #7e7e7e 10px, #5c5c5c 10px, #5c5c5c 20px);\n",
       "    }\n",
       "    .progress-bar-interrupted, .progress-bar-interrupted::-webkit-progress-bar {\n",
       "        background: #F44336;\n",
       "    }\n",
       "</style>\n"
      ],
      "text/plain": [
       "<IPython.core.display.HTML object>"
      ]
     },
     "metadata": {},
     "output_type": "display_data"
    },
    {
     "data": {
      "text/html": [
       "\n",
       "    <div>\n",
       "      <progress value='26000' class='' max='26000' style='width:300px; height:20px; vertical-align: middle;'></progress>\n",
       "      100.00% [26000/26000 00:13&lt;00:00 Sampling chain 1, 0 divergences]\n",
       "    </div>\n",
       "    "
      ],
      "text/plain": [
       "<IPython.core.display.HTML object>"
      ]
     },
     "metadata": {},
     "output_type": "display_data"
    },
    {
     "name": "stderr",
     "output_type": "stream",
     "text": [
      "Sampling 2 chains for 1_000 tune and 25_000 draw iterations (2_000 + 50_000 draws total) took 29 seconds.\n"
     ]
    },
    {
     "name": "stdout",
     "output_type": "stream",
     "text": [
      "       mean    sd  hdi_3%  hdi_97%  mcse_mean  mcse_sd  ess_bulk  ess_tail  \\\n",
      "alpha  1.14  1.01    0.04     2.99       0.01     0.01  14164.26  16817.03   \n",
      "\n",
      "       r_hat  \n",
      "alpha    1.0  \n",
      "[0.01       0.03666667 0.11666667 0.18333333 0.36666667 0.55      ]\n"
     ]
    },
    {
     "data": {
      "image/png": "[encoded data removed]",
      "text/plain": [
       "<Figure size 432x288 with 1 Axes>"
      ]
     },
     "metadata": {},
     "output_type": "display_data"
    },
    {
     "name": "stdout",
     "output_type": "stream",
     "text": [
      "curr_s: [1 1 2]\n",
      "[6.50221803e-07 3.61924380e-05 1.29905817e-03 5.25847779e-03\n",
      " 4.48835371e-02 1.57333052e-01]\n",
      "Selected dose: 1\n",
      "[-4.493104 -4.493104 -4.493104] [1 1 1]\n"
     ]
    },
    {
     "name": "stderr",
     "output_type": "stream",
     "text": [
      "Auto-assigning NUTS sampler...\n",
      "Initializing NUTS using jitter+adapt_diag...\n",
      "Sequential sampling (2 chains in 1 job)\n",
      "NUTS: [alpha]\n"
     ]
    },
    {
     "data": {
      "text/html": [
       "\n",
       "<style>\n",
       "    /* Turns off some styling */\n",
       "    progress {\n",
       "        /* gets rid of default border in Firefox and Opera. */\n",
       "        border: none;\n",
       "        /* Needs to be in here for Safari polyfill so background images work as expected. */\n",
       "        background-size: auto;\n",
       "    }\n",
       "    progress:not([value]), progress:not([value])::-webkit-progress-bar {\n",
       "        background: repeating-linear-gradient(45deg, #7e7e7e, #7e7e7e 10px, #5c5c5c 10px, #5c5c5c 20px);\n",
       "    }\n",
       "    .progress-bar-interrupted, .progress-bar-interrupted::-webkit-progress-bar {\n",
       "        background: #F44336;\n",
       "    }\n",
       "</style>\n"
      ],
      "text/plain": [
       "<IPython.core.display.HTML object>"
      ]
     },
     "metadata": {},
     "output_type": "display_data"
    },
    {
     "data": {
      "text/html": [
       "\n",
       "    <div>\n",
       "      <progress value='26000' class='' max='26000' style='width:300px; height:20px; vertical-align: middle;'></progress>\n",
       "      100.00% [26000/26000 00:40&lt;00:00 Sampling chain 0, 12,476 divergences]\n",
       "    </div>\n",
       "    "
      ],
      "text/plain": [
       "<IPython.core.display.HTML object>"
      ]
     },
     "metadata": {},
     "output_type": "display_data"
    },
    {
     "data": {
      "text/html": [
       "\n",
       "<style>\n",
       "    /* Turns off some styling */\n",
       "    progress {\n",
       "        /* gets rid of default border in Firefox and Opera. */\n",
       "        border: none;\n",
       "        /* Needs to be in here for Safari polyfill so background images work as expected. */\n",
       "        background-size: auto;\n",
       "    }\n",
       "    progress:not([value]), progress:not([value])::-webkit-progress-bar {\n",
       "        background: repeating-linear-gradient(45deg, #7e7e7e, #7e7e7e 10px, #5c5c5c 10px, #5c5c5c 20px);\n",
       "    }\n",
       "    .progress-bar-interrupted, .progress-bar-interrupted::-webkit-progress-bar {\n",
       "        background: #F44336;\n",
       "    }\n",
       "</style>\n"
      ],
      "text/plain": [
       "<IPython.core.display.HTML object>"
      ]
     },
     "metadata": {},
     "output_type": "display_data"
    },
    {
     "data": {
      "text/html": [
       "\n",
       "    <div>\n",
       "      <progress value='26000' class='' max='26000' style='width:300px; height:20px; vertical-align: middle;'></progress>\n",
       "      100.00% [26000/26000 02:15&lt;00:00 Sampling chain 1, 12,509 divergences]\n",
       "    </div>\n",
       "    "
      ],
      "text/plain": [
       "<IPython.core.display.HTML object>"
      ]
     },
     "metadata": {},
     "output_type": "display_data"
    },
    {
     "name": "stderr",
     "output_type": "stream",
     "text": [
      "Sampling 2 chains for 1_000 tune and 25_000 draw iterations (2_000 + 50_000 draws total) took 176 seconds.\n",
      "There were 12477 divergences after tuning. Increase `target_accept` or reparameterize.\n",
      "The acceptance probability does not match the target. It is 0.871, but should be close to 0.95. Try to increase the number of tuning steps.\n",
      "There were 24987 divergences after tuning. Increase `target_accept` or reparameterize.\n"
     ]
    },
    {
     "name": "stdout",
     "output_type": "stream",
     "text": [
      "       mean    sd  hdi_3%  hdi_97%  mcse_mean  mcse_sd  ess_bulk  ess_tail  \\\n",
      "alpha  0.05  0.05     0.0     0.13        0.0      0.0   3055.96   4109.78   \n",
      "\n",
      "       r_hat  \n",
      "alpha    1.0  \n",
      "0.048002433232778176\n"
     ]
    },
    {
     "data": {
      "image/png": "[encoded data removed]",
      "text/plain": [
       "<Figure size 432x288 with 1 Axes>"
      ]
     },
     "metadata": {},
     "output_type": "display_data"
    },
    {
     "name": "stdout",
     "output_type": "stream",
     "text": [
      "curr_s: [0 0 0]\n",
      "[0.54831701 0.6496212  0.75552937 0.80142833 0.87729233 0.9249568 ]\n",
      "Selected dose: 0\n",
      "[-6.25907339 -6.25907339 -6.25907339] [1 0 0]\n"
     ]
    },
    {
     "name": "stderr",
     "output_type": "stream",
     "text": [
      "Auto-assigning NUTS sampler...\n",
      "Initializing NUTS using jitter+adapt_diag...\n",
      "Sequential sampling (2 chains in 1 job)\n",
      "NUTS: [alpha]\n"
     ]
    },
    {
     "data": {
      "text/html": [
       "\n",
       "<style>\n",
       "    /* Turns off some styling */\n",
       "    progress {\n",
       "        /* gets rid of default border in Firefox and Opera. */\n",
       "        border: none;\n",
       "        /* Needs to be in here for Safari polyfill so background images work as expected. */\n",
       "        background-size: auto;\n",
       "    }\n",
       "    progress:not([value]), progress:not([value])::-webkit-progress-bar {\n",
       "        background: repeating-linear-gradient(45deg, #7e7e7e, #7e7e7e 10px, #5c5c5c 10px, #5c5c5c 20px);\n",
       "    }\n",
       "    .progress-bar-interrupted, .progress-bar-interrupted::-webkit-progress-bar {\n",
       "        background: #F44336;\n",
       "    }\n",
       "</style>\n"
      ],
      "text/plain": [
       "<IPython.core.display.HTML object>"
      ]
     },
     "metadata": {},
     "output_type": "display_data"
    },
    {
     "data": {
      "text/html": [
       "\n",
       "    <div>\n",
       "      <progress value='26000' class='' max='26000' style='width:300px; height:20px; vertical-align: middle;'></progress>\n",
       "      100.00% [26000/26000 00:20&lt;00:00 Sampling chain 0, 999 divergences]\n",
       "    </div>\n",
       "    "
      ],
      "text/plain": [
       "<IPython.core.display.HTML object>"
      ]
     },
     "metadata": {},
     "output_type": "display_data"
    },
    {
     "data": {
      "text/html": [
       "\n",
       "<style>\n",
       "    /* Turns off some styling */\n",
       "    progress {\n",
       "        /* gets rid of default border in Firefox and Opera. */\n",
       "        border: none;\n",
       "        /* Needs to be in here for Safari polyfill so background images work as expected. */\n",
       "        background-size: auto;\n",
       "    }\n",
       "    progress:not([value]), progress:not([value])::-webkit-progress-bar {\n",
       "        background: repeating-linear-gradient(45deg, #7e7e7e, #7e7e7e 10px, #5c5c5c 10px, #5c5c5c 20px);\n",
       "    }\n",
       "    .progress-bar-interrupted, .progress-bar-interrupted::-webkit-progress-bar {\n",
       "        background: #F44336;\n",
       "    }\n",
       "</style>\n"
      ],
      "text/plain": [
       "<IPython.core.display.HTML object>"
      ]
     },
     "metadata": {},
     "output_type": "display_data"
    },
    {
     "data": {
      "text/html": [
       "\n",
       "    <div>\n",
       "      <progress value='26000' class='' max='26000' style='width:300px; height:20px; vertical-align: middle;'></progress>\n",
       "      100.00% [26000/26000 00:29&lt;00:00 Sampling chain 1, 324 divergences]\n",
       "    </div>\n",
       "    "
      ],
      "text/plain": [
       "<IPython.core.display.HTML object>"
      ]
     },
     "metadata": {},
     "output_type": "display_data"
    },
    {
     "name": "stderr",
     "output_type": "stream",
     "text": [
      "Sampling 2 chains for 1_000 tune and 25_000 draw iterations (2_000 + 50_000 draws total) took 50 seconds.\n",
      "There were 999 divergences after tuning. Increase `target_accept` or reparameterize.\n",
      "There were 1323 divergences after tuning. Increase `target_accept` or reparameterize.\n"
     ]
    },
    {
     "name": "stdout",
     "output_type": "stream",
     "text": [
      "       mean    sd  hdi_3%  hdi_97%  mcse_mean  mcse_sd  ess_bulk  ess_tail  \\\n",
      "alpha  0.07  0.04    0.01     0.15        0.0      0.0   7772.19    7154.1   \n",
      "\n",
      "       r_hat  \n",
      "alpha    1.0  \n",
      "0.06975779175307288\n"
     ]
    },
    {
     "data": {
      "image/png": "[encoded data removed]",
      "text/plain": [
       "<Figure size 432x288 with 1 Axes>"
      ]
     },
     "metadata": {},
     "output_type": "display_data"
    },
    {
     "name": "stdout",
     "output_type": "stream",
     "text": [
      "curr_s: [0 2 2]\n",
      "[0.41759696 0.53426316 0.6653853  0.72492797 0.8267545  0.89282682]\n",
      "Selected dose: 0\n",
      "[-6.25907339 -6.25907339 -6.25907339] [0 0 0]\n"
     ]
    },
    {
     "name": "stderr",
     "output_type": "stream",
     "text": [
      "Auto-assigning NUTS sampler...\n",
      "Initializing NUTS using jitter+adapt_diag...\n",
      "Sequential sampling (2 chains in 1 job)\n",
      "NUTS: [alpha]\n"
     ]
    },
    {
     "data": {
      "text/html": [
       "\n",
       "<style>\n",
       "    /* Turns off some styling */\n",
       "    progress {\n",
       "        /* gets rid of default border in Firefox and Opera. */\n",
       "        border: none;\n",
       "        /* Needs to be in here for Safari polyfill so background images work as expected. */\n",
       "        background-size: auto;\n",
       "    }\n",
       "    progress:not([value]), progress:not([value])::-webkit-progress-bar {\n",
       "        background: repeating-linear-gradient(45deg, #7e7e7e, #7e7e7e 10px, #5c5c5c 10px, #5c5c5c 20px);\n",
       "    }\n",
       "    .progress-bar-interrupted, .progress-bar-interrupted::-webkit-progress-bar {\n",
       "        background: #F44336;\n",
       "    }\n",
       "</style>\n"
      ],
      "text/plain": [
       "<IPython.core.display.HTML object>"
      ]
     },
     "metadata": {},
     "output_type": "display_data"
    },
    {
     "data": {
      "text/html": [
       "\n",
       "    <div>\n",
       "      <progress value='26000' class='' max='26000' style='width:300px; height:20px; vertical-align: middle;'></progress>\n",
       "      100.00% [26000/26000 00:21&lt;00:00 Sampling chain 0, 128 divergences]\n",
       "    </div>\n",
       "    "
      ],
      "text/plain": [
       "<IPython.core.display.HTML object>"
      ]
     },
     "metadata": {},
     "output_type": "display_data"
    },
    {
     "data": {
      "text/html": [
       "\n",
       "<style>\n",
       "    /* Turns off some styling */\n",
       "    progress {\n",
       "        /* gets rid of default border in Firefox and Opera. */\n",
       "        border: none;\n",
       "        /* Needs to be in here for Safari polyfill so background images work as expected. */\n",
       "        background-size: auto;\n",
       "    }\n",
       "    progress:not([value]), progress:not([value])::-webkit-progress-bar {\n",
       "        background: repeating-linear-gradient(45deg, #7e7e7e, #7e7e7e 10px, #5c5c5c 10px, #5c5c5c 20px);\n",
       "    }\n",
       "    .progress-bar-interrupted, .progress-bar-interrupted::-webkit-progress-bar {\n",
       "        background: #F44336;\n",
       "    }\n",
       "</style>\n"
      ],
      "text/plain": [
       "<IPython.core.display.HTML object>"
      ]
     },
     "metadata": {},
     "output_type": "display_data"
    },
    {
     "data": {
      "text/html": [
       "\n",
       "    <div>\n",
       "      <progress value='26000' class='' max='26000' style='width:300px; height:20px; vertical-align: middle;'></progress>\n",
       "      100.00% [26000/26000 00:27&lt;00:00 Sampling chain 1, 142 divergences]\n",
       "    </div>\n",
       "    "
      ],
      "text/plain": [
       "<IPython.core.display.HTML object>"
      ]
     },
     "metadata": {},
     "output_type": "display_data"
    },
    {
     "name": "stderr",
     "output_type": "stream",
     "text": [
      "Sampling 2 chains for 1_000 tune and 25_000 draw iterations (2_000 + 50_000 draws total) took 48 seconds.\n",
      "There were 128 divergences after tuning. Increase `target_accept` or reparameterize.\n",
      "There were 270 divergences after tuning. Increase `target_accept` or reparameterize.\n"
     ]
    },
    {
     "name": "stdout",
     "output_type": "stream",
     "text": [
      "       mean    sd  hdi_3%  hdi_97%  mcse_mean  mcse_sd  ess_bulk  ess_tail  \\\n",
      "alpha  0.11  0.08    0.03      0.2        0.0      0.0   4763.71   2178.37   \n",
      "\n",
      "       r_hat  \n",
      "alpha    1.0  \n",
      "0.11453279313499788\n"
     ]
    },
    {
     "data": {
      "image/png": "[encoded data removed]",
      "text/plain": [
       "<Figure size 432x288 with 1 Axes>"
      ]
     },
     "metadata": {},
     "output_type": "display_data"
    },
    {
     "name": "stdout",
     "output_type": "stream",
     "text": [
      "curr_s: [0 0 0]\n",
      "[0.23841588 0.35728202 0.51228341 0.58968921 0.73171772 0.83016896]\n",
      "Selected dose: 1\n",
      "[-4.493104 -4.493104 -4.493104] [0 0 1]\n"
     ]
    },
    {
     "name": "stderr",
     "output_type": "stream",
     "text": [
      "Auto-assigning NUTS sampler...\n",
      "Initializing NUTS using jitter+adapt_diag...\n",
      "Sequential sampling (2 chains in 1 job)\n",
      "NUTS: [alpha]\n"
     ]
    },
    {
     "data": {
      "text/html": [
       "\n",
       "<style>\n",
       "    /* Turns off some styling */\n",
       "    progress {\n",
       "        /* gets rid of default border in Firefox and Opera. */\n",
       "        border: none;\n",
       "        /* Needs to be in here for Safari polyfill so background images work as expected. */\n",
       "        background-size: auto;\n",
       "    }\n",
       "    progress:not([value]), progress:not([value])::-webkit-progress-bar {\n",
       "        background: repeating-linear-gradient(45deg, #7e7e7e, #7e7e7e 10px, #5c5c5c 10px, #5c5c5c 20px);\n",
       "    }\n",
       "    .progress-bar-interrupted, .progress-bar-interrupted::-webkit-progress-bar {\n",
       "        background: #F44336;\n",
       "    }\n",
       "</style>\n"
      ],
      "text/plain": [
       "<IPython.core.display.HTML object>"
      ]
     },
     "metadata": {},
     "output_type": "display_data"
    },
    {
     "data": {
      "text/html": [
       "\n",
       "    <div>\n",
       "      <progress value='26000' class='' max='26000' style='width:300px; height:20px; vertical-align: middle;'></progress>\n",
       "      100.00% [26000/26000 00:19&lt;00:00 Sampling chain 0, 27 divergences]\n",
       "    </div>\n",
       "    "
      ],
      "text/plain": [
       "<IPython.core.display.HTML object>"
      ]
     },
     "metadata": {},
     "output_type": "display_data"
    },
    {
     "data": {
      "text/html": [
       "\n",
       "<style>\n",
       "    /* Turns off some styling */\n",
       "    progress {\n",
       "        /* gets rid of default border in Firefox and Opera. */\n",
       "        border: none;\n",
       "        /* Needs to be in here for Safari polyfill so background images work as expected. */\n",
       "        background-size: auto;\n",
       "    }\n",
       "    progress:not([value]), progress:not([value])::-webkit-progress-bar {\n",
       "        background: repeating-linear-gradient(45deg, #7e7e7e, #7e7e7e 10px, #5c5c5c 10px, #5c5c5c 20px);\n",
       "    }\n",
       "    .progress-bar-interrupted, .progress-bar-interrupted::-webkit-progress-bar {\n",
       "        background: #F44336;\n",
       "    }\n",
       "</style>\n"
      ],
      "text/plain": [
       "<IPython.core.display.HTML object>"
      ]
     },
     "metadata": {},
     "output_type": "display_data"
    },
    {
     "data": {
      "text/html": [
       "\n",
       "    <div>\n",
       "      <progress value='26000' class='' max='26000' style='width:300px; height:20px; vertical-align: middle;'></progress>\n",
       "      100.00% [26000/26000 00:18&lt;00:00 Sampling chain 1, 25 divergences]\n",
       "    </div>\n",
       "    "
      ],
      "text/plain": [
       "<IPython.core.display.HTML object>"
      ]
     },
     "metadata": {},
     "output_type": "display_data"
    },
    {
     "name": "stderr",
     "output_type": "stream",
     "text": [
      "Sampling 2 chains for 1_000 tune and 25_000 draw iterations (2_000 + 50_000 draws total) took 38 seconds.\n",
      "There were 27 divergences after tuning. Increase `target_accept` or reparameterize.\n",
      "There were 52 divergences after tuning. Increase `target_accept` or reparameterize.\n"
     ]
    },
    {
     "name": "stdout",
     "output_type": "stream",
     "text": [
      "       mean    sd  hdi_3%  hdi_97%  mcse_mean  mcse_sd  ess_bulk  ess_tail  \\\n",
      "alpha  0.11  0.04    0.04     0.19        0.0      0.0  11522.66  11409.68   \n",
      "\n",
      "       r_hat  \n",
      "alpha    1.0  \n",
      "0.11150483363549187\n"
     ]
    },
    {
     "data": {
      "image/png": "[encoded data removed]",
      "text/plain": [
       "<Figure size 432x288 with 1 Axes>"
      ]
     },
     "metadata": {},
     "output_type": "display_data"
    },
    {
     "name": "stdout",
     "output_type": "stream",
     "text": [
      "curr_s: [0 0 2]\n",
      "[0.24762636 0.36713723 0.52142292 0.59798092 0.73778529 0.83426404]\n",
      "Selected dose: 1\n",
      "[-4.493104 -4.493104 -4.493104] [1 0 1]\n"
     ]
    },
    {
     "name": "stderr",
     "output_type": "stream",
     "text": [
      "Auto-assigning NUTS sampler...\n",
      "Initializing NUTS using jitter+adapt_diag...\n",
      "Sequential sampling (2 chains in 1 job)\n",
      "NUTS: [alpha]\n"
     ]
    },
    {
     "data": {
      "text/html": [
       "\n",
       "<style>\n",
       "    /* Turns off some styling */\n",
       "    progress {\n",
       "        /* gets rid of default border in Firefox and Opera. */\n",
       "        border: none;\n",
       "        /* Needs to be in here for Safari polyfill so background images work as expected. */\n",
       "        background-size: auto;\n",
       "    }\n",
       "    progress:not([value]), progress:not([value])::-webkit-progress-bar {\n",
       "        background: repeating-linear-gradient(45deg, #7e7e7e, #7e7e7e 10px, #5c5c5c 10px, #5c5c5c 20px);\n",
       "    }\n",
       "    .progress-bar-interrupted, .progress-bar-interrupted::-webkit-progress-bar {\n",
       "        background: #F44336;\n",
       "    }\n",
       "</style>\n"
      ],
      "text/plain": [
       "<IPython.core.display.HTML object>"
      ]
     },
     "metadata": {},
     "output_type": "display_data"
    },
    {
     "data": {
      "text/html": [
       "\n",
       "    <div>\n",
       "      <progress value='26000' class='' max='26000' style='width:300px; height:20px; vertical-align: middle;'></progress>\n",
       "      100.00% [26000/26000 00:18&lt;00:00 Sampling chain 0, 41 divergences]\n",
       "    </div>\n",
       "    "
      ],
      "text/plain": [
       "<IPython.core.display.HTML object>"
      ]
     },
     "metadata": {},
     "output_type": "display_data"
    },
    {
     "data": {
      "text/html": [
       "\n",
       "<style>\n",
       "    /* Turns off some styling */\n",
       "    progress {\n",
       "        /* gets rid of default border in Firefox and Opera. */\n",
       "        border: none;\n",
       "        /* Needs to be in here for Safari polyfill so background images work as expected. */\n",
       "        background-size: auto;\n",
       "    }\n",
       "    progress:not([value]), progress:not([value])::-webkit-progress-bar {\n",
       "        background: repeating-linear-gradient(45deg, #7e7e7e, #7e7e7e 10px, #5c5c5c 10px, #5c5c5c 20px);\n",
       "    }\n",
       "    .progress-bar-interrupted, .progress-bar-interrupted::-webkit-progress-bar {\n",
       "        background: #F44336;\n",
       "    }\n",
       "</style>\n"
      ],
      "text/plain": [
       "<IPython.core.display.HTML object>"
      ]
     },
     "metadata": {},
     "output_type": "display_data"
    },
    {
     "data": {
      "text/html": [
       "\n",
       "    <div>\n",
       "      <progress value='26000' class='' max='26000' style='width:300px; height:20px; vertical-align: middle;'></progress>\n",
       "      100.00% [26000/26000 00:17&lt;00:00 Sampling chain 1, 58 divergences]\n",
       "    </div>\n",
       "    "
      ],
      "text/plain": [
       "<IPython.core.display.HTML object>"
      ]
     },
     "metadata": {},
     "output_type": "display_data"
    },
    {
     "name": "stderr",
     "output_type": "stream",
     "text": [
      "Sampling 2 chains for 1_000 tune and 25_000 draw iterations (2_000 + 50_000 draws total) took 36 seconds.\n",
      "There were 41 divergences after tuning. Increase `target_accept` or reparameterize.\n",
      "There were 99 divergences after tuning. Increase `target_accept` or reparameterize.\n"
     ]
    },
    {
     "name": "stdout",
     "output_type": "stream",
     "text": [
      "       mean    sd  hdi_3%  hdi_97%  mcse_mean  mcse_sd  ess_bulk  ess_tail  \\\n",
      "alpha  0.09  0.03    0.04     0.16        0.0      0.0  13481.43  12960.38   \n",
      "\n",
      "       r_hat  \n",
      "alpha    1.0  \n",
      "0.09468299462232747\n"
     ]
    },
    {
     "data": {
      "image/png": "[encoded data removed]",
      "text/plain": [
       "<Figure size 432x288 with 1 Axes>"
      ]
     },
     "metadata": {},
     "output_type": "display_data"
    },
    {
     "name": "stdout",
     "output_type": "stream",
     "text": [
      "curr_s: [2 1 0]\n",
      "[0.30566793 0.42705053 0.57524834 0.64621453 0.77242146 0.8573849 ]\n",
      "Selected dose: 0\n",
      "[-6.25907339 -6.25907339 -6.25907339] [1 0 0]\n"
     ]
    },
    {
     "name": "stderr",
     "output_type": "stream",
     "text": [
      "Auto-assigning NUTS sampler...\n",
      "Initializing NUTS using jitter+adapt_diag...\n",
      "Sequential sampling (2 chains in 1 job)\n",
      "NUTS: [alpha]\n"
     ]
    },
    {
     "data": {
      "text/html": [
       "\n",
       "<style>\n",
       "    /* Turns off some styling */\n",
       "    progress {\n",
       "        /* gets rid of default border in Firefox and Opera. */\n",
       "        border: none;\n",
       "        /* Needs to be in here for Safari polyfill so background images work as expected. */\n",
       "        background-size: auto;\n",
       "    }\n",
       "    progress:not([value]), progress:not([value])::-webkit-progress-bar {\n",
       "        background: repeating-linear-gradient(45deg, #7e7e7e, #7e7e7e 10px, #5c5c5c 10px, #5c5c5c 20px);\n",
       "    }\n",
       "    .progress-bar-interrupted, .progress-bar-interrupted::-webkit-progress-bar {\n",
       "        background: #F44336;\n",
       "    }\n",
       "</style>\n"
      ],
      "text/plain": [
       "<IPython.core.display.HTML object>"
      ]
     },
     "metadata": {},
     "output_type": "display_data"
    },
    {
     "data": {
      "text/html": [
       "\n",
       "    <div>\n",
       "      <progress value='26000' class='' max='26000' style='width:300px; height:20px; vertical-align: middle;'></progress>\n",
       "      100.00% [26000/26000 00:17&lt;00:00 Sampling chain 0, 12 divergences]\n",
       "    </div>\n",
       "    "
      ],
      "text/plain": [
       "<IPython.core.display.HTML object>"
      ]
     },
     "metadata": {},
     "output_type": "display_data"
    },
    {
     "data": {
      "text/html": [
       "\n",
       "<style>\n",
       "    /* Turns off some styling */\n",
       "    progress {\n",
       "        /* gets rid of default border in Firefox and Opera. */\n",
       "        border: none;\n",
       "        /* Needs to be in here for Safari polyfill so background images work as expected. */\n",
       "        background-size: auto;\n",
       "    }\n",
       "    progress:not([value]), progress:not([value])::-webkit-progress-bar {\n",
       "        background: repeating-linear-gradient(45deg, #7e7e7e, #7e7e7e 10px, #5c5c5c 10px, #5c5c5c 20px);\n",
       "    }\n",
       "    .progress-bar-interrupted, .progress-bar-interrupted::-webkit-progress-bar {\n",
       "        background: #F44336;\n",
       "    }\n",
       "</style>\n"
      ],
      "text/plain": [
       "<IPython.core.display.HTML object>"
      ]
     },
     "metadata": {},
     "output_type": "display_data"
    },
    {
     "data": {
      "text/html": [
       "\n",
       "    <div>\n",
       "      <progress value='26000' class='' max='26000' style='width:300px; height:20px; vertical-align: middle;'></progress>\n",
       "      100.00% [26000/26000 00:18&lt;00:00 Sampling chain 1, 3 divergences]\n",
       "    </div>\n",
       "    "
      ],
      "text/plain": [
       "<IPython.core.display.HTML object>"
      ]
     },
     "metadata": {},
     "output_type": "display_data"
    },
    {
     "name": "stderr",
     "output_type": "stream",
     "text": [
      "Sampling 2 chains for 1_000 tune and 25_000 draw iterations (2_000 + 50_000 draws total) took 36 seconds.\n",
      "There were 12 divergences after tuning. Increase `target_accept` or reparameterize.\n",
      "There were 15 divergences after tuning. Increase `target_accept` or reparameterize.\n"
     ]
    },
    {
     "name": "stdout",
     "output_type": "stream",
     "text": [
      "       mean    sd  hdi_3%  hdi_97%  mcse_mean  mcse_sd  ess_bulk  ess_tail  \\\n",
      "alpha  0.09  0.03    0.04     0.15        0.0      0.0  13726.66   12948.8   \n",
      "\n",
      "       r_hat  \n",
      "alpha    1.0  \n",
      "0.09347769184857702\n"
     ]
    },
    {
     "data": {
      "image/png": "[encoded data removed]",
      "text/plain": [
       "<Figure size 432x288 with 1 Axes>"
      ]
     },
     "metadata": {},
     "output_type": "display_data"
    },
    {
     "name": "stdout",
     "output_type": "stream",
     "text": [
      "curr_s: [1 1 2]\n",
      "[0.31031486 0.43170117 0.57931181 0.6498163  0.77496472 0.85906593]\n",
      "Selected dose: 0\n",
      "[-6.25907339 -6.25907339 -6.25907339] [1 1 1]\n"
     ]
    },
    {
     "name": "stderr",
     "output_type": "stream",
     "text": [
      "Auto-assigning NUTS sampler...\n",
      "Initializing NUTS using jitter+adapt_diag...\n",
      "Sequential sampling (2 chains in 1 job)\n",
      "NUTS: [alpha]\n"
     ]
    },
    {
     "data": {
      "text/html": [
       "\n",
       "<style>\n",
       "    /* Turns off some styling */\n",
       "    progress {\n",
       "        /* gets rid of default border in Firefox and Opera. */\n",
       "        border: none;\n",
       "        /* Needs to be in here for Safari polyfill so background images work as expected. */\n",
       "        background-size: auto;\n",
       "    }\n",
       "    progress:not([value]), progress:not([value])::-webkit-progress-bar {\n",
       "        background: repeating-linear-gradient(45deg, #7e7e7e, #7e7e7e 10px, #5c5c5c 10px, #5c5c5c 20px);\n",
       "    }\n",
       "    .progress-bar-interrupted, .progress-bar-interrupted::-webkit-progress-bar {\n",
       "        background: #F44336;\n",
       "    }\n",
       "</style>\n"
      ],
      "text/plain": [
       "<IPython.core.display.HTML object>"
      ]
     },
     "metadata": {},
     "output_type": "display_data"
    },
    {
     "data": {
      "text/html": [
       "\n",
       "    <div>\n",
       "      <progress value='26000' class='' max='26000' style='width:300px; height:20px; vertical-align: middle;'></progress>\n",
       "      100.00% [26000/26000 00:19&lt;00:00 Sampling chain 0, 167 divergences]\n",
       "    </div>\n",
       "    "
      ],
      "text/plain": [
       "<IPython.core.display.HTML object>"
      ]
     },
     "metadata": {},
     "output_type": "display_data"
    },
    {
     "data": {
      "text/html": [
       "\n",
       "<style>\n",
       "    /* Turns off some styling */\n",
       "    progress {\n",
       "        /* gets rid of default border in Firefox and Opera. */\n",
       "        border: none;\n",
       "        /* Needs to be in here for Safari polyfill so background images work as expected. */\n",
       "        background-size: auto;\n",
       "    }\n",
       "    progress:not([value]), progress:not([value])::-webkit-progress-bar {\n",
       "        background: repeating-linear-gradient(45deg, #7e7e7e, #7e7e7e 10px, #5c5c5c 10px, #5c5c5c 20px);\n",
       "    }\n",
       "    .progress-bar-interrupted, .progress-bar-interrupted::-webkit-progress-bar {\n",
       "        background: #F44336;\n",
       "    }\n",
       "</style>\n"
      ],
      "text/plain": [
       "<IPython.core.display.HTML object>"
      ]
     },
     "metadata": {},
     "output_type": "display_data"
    },
    {
     "data": {
      "text/html": [
       "\n",
       "    <div>\n",
       "      <progress value='26000' class='' max='26000' style='width:300px; height:20px; vertical-align: middle;'></progress>\n",
       "      100.00% [26000/26000 00:18&lt;00:00 Sampling chain 1, 170 divergences]\n",
       "    </div>\n",
       "    "
      ],
      "text/plain": [
       "<IPython.core.display.HTML object>"
      ]
     },
     "metadata": {},
     "output_type": "display_data"
    },
    {
     "name": "stderr",
     "output_type": "stream",
     "text": [
      "Sampling 2 chains for 1_000 tune and 25_000 draw iterations (2_000 + 50_000 draws total) took 37 seconds.\n",
      "There were 167 divergences after tuning. Increase `target_accept` or reparameterize.\n",
      "There were 337 divergences after tuning. Increase `target_accept` or reparameterize.\n"
     ]
    },
    {
     "name": "stdout",
     "output_type": "stream",
     "text": [
      "       mean    sd  hdi_3%  hdi_97%  mcse_mean  mcse_sd  ess_bulk  ess_tail  \\\n",
      "alpha  0.07  0.02    0.03     0.11        0.0      0.0  14449.22  13335.44   \n",
      "\n",
      "       r_hat  \n",
      "alpha    1.0  \n",
      "0.06663578235127858\n"
     ]
    },
    {
     "data": {
      "image/png": "[encoded data removed]",
      "text/plain": [
       "<Figure size 432x288 with 1 Axes>"
      ]
     },
     "metadata": {},
     "output_type": "display_data"
    },
    {
     "name": "stdout",
     "output_type": "stream",
     "text": [
      "curr_s: [0 0 1]\n",
      "[0.4342405  0.54946438 0.67762834 0.73544019 0.83382397 0.89736812]\n",
      "Selected dose: 0\n",
      "[-6.25907339 -6.25907339 -6.25907339] [0 0 0]\n"
     ]
    },
    {
     "name": "stderr",
     "output_type": "stream",
     "text": [
      "Auto-assigning NUTS sampler...\n",
      "Initializing NUTS using jitter+adapt_diag...\n",
      "Sequential sampling (2 chains in 1 job)\n",
      "NUTS: [alpha]\n"
     ]
    },
    {
     "data": {
      "text/html": [
       "\n",
       "<style>\n",
       "    /* Turns off some styling */\n",
       "    progress {\n",
       "        /* gets rid of default border in Firefox and Opera. */\n",
       "        border: none;\n",
       "        /* Needs to be in here for Safari polyfill so background images work as expected. */\n",
       "        background-size: auto;\n",
       "    }\n",
       "    progress:not([value]), progress:not([value])::-webkit-progress-bar {\n",
       "        background: repeating-linear-gradient(45deg, #7e7e7e, #7e7e7e 10px, #5c5c5c 10px, #5c5c5c 20px);\n",
       "    }\n",
       "    .progress-bar-interrupted, .progress-bar-interrupted::-webkit-progress-bar {\n",
       "        background: #F44336;\n",
       "    }\n",
       "</style>\n"
      ],
      "text/plain": [
       "<IPython.core.display.HTML object>"
      ]
     },
     "metadata": {},
     "output_type": "display_data"
    },
    {
     "data": {
      "text/html": [
       "\n",
       "    <div>\n",
       "      <progress value='26000' class='' max='26000' style='width:300px; height:20px; vertical-align: middle;'></progress>\n",
       "      100.00% [26000/26000 00:20&lt;00:00 Sampling chain 0, 20 divergences]\n",
       "    </div>\n",
       "    "
      ],
      "text/plain": [
       "<IPython.core.display.HTML object>"
      ]
     },
     "metadata": {},
     "output_type": "display_data"
    },
    {
     "data": {
      "text/html": [
       "\n",
       "<style>\n",
       "    /* Turns off some styling */\n",
       "    progress {\n",
       "        /* gets rid of default border in Firefox and Opera. */\n",
       "        border: none;\n",
       "        /* Needs to be in here for Safari polyfill so background images work as expected. */\n",
       "        background-size: auto;\n",
       "    }\n",
       "    progress:not([value]), progress:not([value])::-webkit-progress-bar {\n",
       "        background: repeating-linear-gradient(45deg, #7e7e7e, #7e7e7e 10px, #5c5c5c 10px, #5c5c5c 20px);\n",
       "    }\n",
       "    .progress-bar-interrupted, .progress-bar-interrupted::-webkit-progress-bar {\n",
       "        background: #F44336;\n",
       "    }\n",
       "</style>\n"
      ],
      "text/plain": [
       "<IPython.core.display.HTML object>"
      ]
     },
     "metadata": {},
     "output_type": "display_data"
    },
    {
     "data": {
      "text/html": [
       "\n",
       "    <div>\n",
       "      <progress value='26000' class='' max='26000' style='width:300px; height:20px; vertical-align: middle;'></progress>\n",
       "      100.00% [26000/26000 00:21&lt;00:00 Sampling chain 1, 29 divergences]\n",
       "    </div>\n",
       "    "
      ],
      "text/plain": [
       "<IPython.core.display.HTML object>"
      ]
     },
     "metadata": {},
     "output_type": "display_data"
    },
    {
     "name": "stderr",
     "output_type": "stream",
     "text": [
      "Sampling 2 chains for 1_000 tune and 25_000 draw iterations (2_000 + 50_000 draws total) took 42 seconds.\n",
      "There were 20 divergences after tuning. Increase `target_accept` or reparameterize.\n",
      "There were 49 divergences after tuning. Increase `target_accept` or reparameterize.\n"
     ]
    },
    {
     "name": "stdout",
     "output_type": "stream",
     "text": [
      "       mean    sd  hdi_3%  hdi_97%  mcse_mean  mcse_sd  ess_bulk  ess_tail  \\\n",
      "alpha  0.09  0.05    0.04     0.13        0.0      0.0   3502.38   1228.12   \n",
      "\n",
      "       r_hat  \n",
      "alpha    1.0  \n",
      "0.08757669382130293\n"
     ]
    },
    {
     "data": {
      "image/png": "[encoded data removed]",
      "text/plain": [
       "<Figure size 432x288 with 1 Axes>"
      ]
     },
     "metadata": {},
     "output_type": "display_data"
    },
    {
     "name": "stdout",
     "output_type": "stream",
     "text": [
      "curr_s: [1 1 1]\n",
      "[0.33410558 0.4552114  0.59962412 0.6677419  0.78753755 0.8673437 ]\n",
      "Selected dose: 0\n",
      "[-6.25907339 -6.25907339 -6.25907339] [0 1 1]\n"
     ]
    },
    {
     "name": "stderr",
     "output_type": "stream",
     "text": [
      "Auto-assigning NUTS sampler...\n",
      "Initializing NUTS using jitter+adapt_diag...\n",
      "Sequential sampling (2 chains in 1 job)\n",
      "NUTS: [alpha]\n"
     ]
    },
    {
     "data": {
      "text/html": [
       "\n",
       "<style>\n",
       "    /* Turns off some styling */\n",
       "    progress {\n",
       "        /* gets rid of default border in Firefox and Opera. */\n",
       "        border: none;\n",
       "        /* Needs to be in here for Safari polyfill so background images work as expected. */\n",
       "        background-size: auto;\n",
       "    }\n",
       "    progress:not([value]), progress:not([value])::-webkit-progress-bar {\n",
       "        background: repeating-linear-gradient(45deg, #7e7e7e, #7e7e7e 10px, #5c5c5c 10px, #5c5c5c 20px);\n",
       "    }\n",
       "    .progress-bar-interrupted, .progress-bar-interrupted::-webkit-progress-bar {\n",
       "        background: #F44336;\n",
       "    }\n",
       "</style>\n"
      ],
      "text/plain": [
       "<IPython.core.display.HTML object>"
      ]
     },
     "metadata": {},
     "output_type": "display_data"
    },
    {
     "data": {
      "text/html": [
       "\n",
       "    <div>\n",
       "      <progress value='26000' class='' max='26000' style='width:300px; height:20px; vertical-align: middle;'></progress>\n",
       "      100.00% [26000/26000 00:17&lt;00:00 Sampling chain 0, 48 divergences]\n",
       "    </div>\n",
       "    "
      ],
      "text/plain": [
       "<IPython.core.display.HTML object>"
      ]
     },
     "metadata": {},
     "output_type": "display_data"
    },
    {
     "data": {
      "text/html": [
       "\n",
       "<style>\n",
       "    /* Turns off some styling */\n",
       "    progress {\n",
       "        /* gets rid of default border in Firefox and Opera. */\n",
       "        border: none;\n",
       "        /* Needs to be in here for Safari polyfill so background images work as expected. */\n",
       "        background-size: auto;\n",
       "    }\n",
       "    progress:not([value]), progress:not([value])::-webkit-progress-bar {\n",
       "        background: repeating-linear-gradient(45deg, #7e7e7e, #7e7e7e 10px, #5c5c5c 10px, #5c5c5c 20px);\n",
       "    }\n",
       "    .progress-bar-interrupted, .progress-bar-interrupted::-webkit-progress-bar {\n",
       "        background: #F44336;\n",
       "    }\n",
       "</style>\n"
      ],
      "text/plain": [
       "<IPython.core.display.HTML object>"
      ]
     },
     "metadata": {},
     "output_type": "display_data"
    },
    {
     "data": {
      "text/html": [
       "\n",
       "    <div>\n",
       "      <progress value='26000' class='' max='26000' style='width:300px; height:20px; vertical-align: middle;'></progress>\n",
       "      100.00% [26000/26000 00:18&lt;00:00 Sampling chain 1, 36 divergences]\n",
       "    </div>\n",
       "    "
      ],
      "text/plain": [
       "<IPython.core.display.HTML object>"
      ]
     },
     "metadata": {},
     "output_type": "display_data"
    },
    {
     "name": "stderr",
     "output_type": "stream",
     "text": [
      "Sampling 2 chains for 1_000 tune and 25_000 draw iterations (2_000 + 50_000 draws total) took 36 seconds.\n",
      "There were 48 divergences after tuning. Increase `target_accept` or reparameterize.\n",
      "There were 84 divergences after tuning. Increase `target_accept` or reparameterize.\n"
     ]
    },
    {
     "name": "stdout",
     "output_type": "stream",
     "text": [
      "       mean    sd  hdi_3%  hdi_97%  mcse_mean  mcse_sd  ess_bulk  ess_tail  \\\n",
      "alpha  0.07  0.02    0.03     0.11        0.0      0.0  14861.89  14036.69   \n",
      "\n",
      "       r_hat  \n",
      "alpha    1.0  \n",
      "0.07189740384524518\n"
     ]
    },
    {
     "data": {
      "image/png": "[encoded data removed]",
      "text/plain": [
       "<Figure size 432x288 with 1 Axes>"
      ]
     },
     "metadata": {},
     "output_type": "display_data"
    }
   ],
   "source": [
    "main()\n"
   ]
  },
  {
   "cell_type": "code",
   "execution_count": null,
   "metadata": {},
   "outputs": [],
   "source": []
  }
 ],
 "metadata": {
  "kernelspec": {
   "display_name": "Python 3",
   "language": "python",
   "name": "python3"
  },
  "language_info": {
   "codemirror_mode": {
    "name": "ipython",
    "version": 3
   },
   "file_extension": ".py",
   "mimetype": "text/x-python",
   "name": "python",
   "nbconvert_exporter": "python",
   "pygments_lexer": "ipython3",
   "version": "3.8.5"
  },
  "vscode": {
   "interpreter": {
    "hash": "0885fb3a554a0f8c9af0e82d78dfc796e751951a35c142f19b895630dcb282a4"
   }
  }
 },
 "nbformat": 4,
 "nbformat_minor": 4
}
