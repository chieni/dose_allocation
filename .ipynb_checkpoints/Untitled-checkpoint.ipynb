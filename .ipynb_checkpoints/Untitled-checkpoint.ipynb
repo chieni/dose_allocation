{
 "cells": [
  {
   "cell_type": "code",
   "execution_count": 4,
   "metadata": {},
   "outputs": [],
   "source": [
    "import arviz as az\n",
    "import matplotlib as mpl\n",
    "import pandas as pd\n",
    "import matplotlib.pyplot as plt\n",
    "import numpy as np\n",
    "from scipy import stats\n",
    "\n",
    "import pymc as pm\n",
    "from sklearn.preprocessing import scale\n",
    "import seaborn as sns\n",
    "\n",
    "%matplotlib inline"
   ]
  },
  {
   "cell_type": "code",
   "execution_count": 21,
   "metadata": {},
   "outputs": [],
   "source": [
    "\n",
    "\n",
    "class CRM:\n",
    "    def __init__(self, num_patients, num_doses):\n",
    "        self.num_patients = num_patients\n",
    "        self.num_doses = num_doses\n",
    "        self.allocated_doses = np.ones(self.num_patients, dtype=int) * -1\n",
    "\n",
    "    def tangent_model(dose_label, alpha):\n",
    "        return ((np.tanh(dose_label) + 1.) / 2.) ** alpha\n",
    "    \n",
    "    def logistic_model(dose_label, alpha, beta):\n",
    "        '''\n",
    "        alpha: intercept\n",
    "        beta: \n",
    "        '''\n",
    "        return (np.exp(alpha + dose_label * np.exp(beta)))\\\n",
    "                / (1. + np.exp(alpha + dose_label * np.exp(beta)))\n",
    "    \n",
    "    def init_tangent_labels(p_true_val, a0):\n",
    "        x = (p_true_val ** (1. / a0) * 2. - 1.)\n",
    "        return 1./2. * np.log((1. + x)/(1. - x))\n",
    "    \n",
    "    def init_logistic_labels(p_true_val, a0, b0):\n",
    "        return (np.log(p_true_val / (1. - p_true_val)) - a0) / np.exp(b0)\n",
    "\n",
    "    def gen_patients(self, arr_rate):\n",
    "        '''\n",
    "        Generates all patients for an experiment of length T\n",
    "        '''\n",
    "        # Arrival proportion of each subgroup. If arrive_rate = [5, 4, 3],\n",
    "        # arrive_dist = [5/12, 4/12, 3/12]\n",
    "        arrive_sum = sum(arr_rate)\n",
    "        arrive_dist = [rate/arrive_sum for rate in arr_rate]\n",
    "        arrive_dist.insert(0, 0)\n",
    "\n",
    "        # [0, 5/12, 9/12, 12/12]\n",
    "        arrive_dist_bins = np.cumsum(arrive_dist)\n",
    "\n",
    "        # Random numbers between 0 and 1 in an array of shape (1, T)\n",
    "        patients_gen = np.random.rand(self.num_patients)\n",
    "        patients = np.digitize(patients_gen, arrive_dist_bins) - 1\n",
    "        return patients\n",
    "\n",
    "    def from_posterior(param, samples):\n",
    "        smin, smax = np.min(samples), np.max(samples)\n",
    "        width = smax - smin\n",
    "        x = np.linspace(smin, smax, 100)\n",
    "        samples = samples[0]\n",
    "        y = stats.gaussian_kde(samples)(x)\n",
    "\n",
    "        # what was never sampled should have a small probability but not 0,\n",
    "        # so we'll extend the domain and use linear approximation of density on it\n",
    "        x = np.concatenate([[x[0] - 3 * width], x, [x[-1] + 3 * width]])\n",
    "        y = np.concatenate([[0], y, [0]])\n",
    "        return pm.Interpolated(param, x, y)\n",
    "    \n",
    "    def plot_dose_toxicity_curve(dose_labels, p_true, alpha):\n",
    "        sns.set_theme()\n",
    "        model_toxicities = CRM.tangent_model(dose_labels, alpha)\n",
    "        frame = pd.DataFrame({'dose_labels': dose_labels,\n",
    "                              'model': model_toxicities,\n",
    "                              'true': p_true.mean(axis=0)})\n",
    "        frame = pd.melt(frame, id_vars=['dose_labels'], var_name='toxicity', value_name='toxicity_value')\n",
    "        sns.lineplot(data=frame, x='dose_labels', y='toxicity_value', hue='toxicity', markers=True)\n",
    "\n",
    "    def run_trial(self, dose_labels, patients, p_true, tox_thre):\n",
    "        cohort_size = 3\n",
    "        max_dose = 0\n",
    "        timestep = 0\n",
    "        curr_s = patients[:cohort_size]\n",
    "\n",
    "        # Assign first patient to lowest dose level\n",
    "        self.allocated_doses[:cohort_size] = 0\n",
    "        X = np.array([dose_labels[0] for patient_idx in range(cohort_size)])\n",
    "\n",
    "        # Sample toxicity\n",
    "        Y = np.array([int(np.random.rand() <= p_true[subgroup_idx, self.allocated_doses[timestep]]) for subgroup_idx in curr_s])\n",
    "\n",
    "        model = pm.Model()\n",
    "        with model:\n",
    "            # Prior of parameters\n",
    "            alpha = pm.Gamma(\"alpha\", 1, 1)\n",
    "\n",
    "            # Expected value of outcome: dose-toxicity model\n",
    "            toxicity_prob = CRM.tangent_model(X, alpha)\n",
    "\n",
    "            # Likelihood (sampling dist) of observations\n",
    "            Y_obs = pm.Bernoulli(\"Y_obs\", toxicity_prob, observed=Y)\n",
    "\n",
    "            # Draw 1000 posterior samples\n",
    "            trace = pm.sample(25000, cores=1, target_accept=0.95)\n",
    "            print(az.summary(trace, round_to=2))\n",
    "\n",
    "            current_alpha_dist = trace.posterior['alpha']\n",
    "            expected_toxicities = CRM.tangent_model(dose_labels, 1. / np.e)\n",
    "            print(expected_toxicities)\n",
    "            CRM.plot_dose_toxicity_curve(dose_labels, p_true, current_alpha_dist.values.mean())\n",
    "            plt.show()\n",
    "\n",
    "        timestep += cohort_size\n",
    "\n",
    "        while timestep < self.num_patients:\n",
    "            # Sample more data\n",
    "            curr_s = patients[timestep - cohort_size:timestep]\n",
    "            print(f\"curr_s: {curr_s}\")\n",
    "\n",
    "            # If skipping doses is allowed, assign to the dose whose expected toxicity\n",
    "            # under the posterior dist is closest to the threshold.\n",
    "            expected_toxicities = CRM.tangent_model(dose_labels, current_alpha_dist.values.mean())\n",
    "            selected_dose = np.abs(np.array(expected_toxicities) - tox_thre).argmin()\n",
    "            if selected_dose > max_dose + 1:\n",
    "                selected_dose = max_dose + 1\n",
    "                max_dose = selected_dose\n",
    "            print(expected_toxicities)\n",
    "            print(f\"Selected dose: {selected_dose}\")\n",
    "            self.allocated_doses[:cohort_size] = selected_dose\n",
    "            X = np.array([dose_labels[selected_dose] for patient_idx in range(cohort_size)])\n",
    "            # Sample toxicity\n",
    "            Y = np.array([int(np.random.rand() <= p_true[subgroup_idx, self.allocated_doses[timestep]]) for subgroup_idx in curr_s])\n",
    "            print(X, Y)\n",
    "            model = pm.Model()\n",
    "            with model:\n",
    "                # Priors are posteriors from previous iteration\n",
    "                alpha = CRM.from_posterior(\"alpha\", trace.posterior[\"alpha\"])\n",
    "\n",
    "                # Expected value of outcome: dose-toxicity model\n",
    "                toxicity_prob = CRM.tangent_model(X, alpha)\n",
    "\n",
    "                # Likelihood (sampling dist) of observations\n",
    "                Y_obs = pm.Bernoulli(\"Y_obs\", toxicity_prob, observed=Y)\n",
    "\n",
    "                # draw 10000 posterior samples\n",
    "                trace = pm.sample(25000, cores=1, target_accept=0.95)\n",
    "                    \n",
    "                print(az.summary(trace, round_to=2))\n",
    "                current_alpha_dist = trace.posterior['alpha']\n",
    "                print(current_alpha_dist.values.mean())\n",
    "                CRM.plot_dose_toxicity_curve(dose_labels, p_true, current_alpha_dist.values.mean())\n",
    "                plt.show()\n",
    "\n",
    "            timestep += cohort_size\n",
    "\n",
    "                \n",
    "def main():\n",
    "    tox_thre = 0.35\n",
    "    # toxicity\n",
    "    p_true = np.array([[0.01, 0.01, 0.05, 0.15, 0.20, 0.45],\n",
    "                    [0.01, 0.05, 0.15, 0.20, 0.45, 0.60],\n",
    "                    [0.01, 0.05, 0.15, 0.20, 0.45, 0.60]])\n",
    "    arr_rate = [5, 4, 3]\n",
    "    crm = CRM(50, 5)\n",
    "    dose_skeleton = np.mean(p_true, axis=0)\n",
    "    dose_labels = CRM.init_tangent_labels(dose_skeleton, 1. / np.e)\n",
    "    patients = crm.gen_patients(arr_rate)\n",
    "    crm.run_trial(dose_labels, patients, p_true, tox_thre)\n",
    "\n"
   ]
  },
  {
   "cell_type": "code",
   "execution_count": 22,
   "metadata": {},
   "outputs": [
    {
     "name": "stderr",
     "output_type": "stream",
     "text": [
      "Auto-assigning NUTS sampler...\n",
      "Initializing NUTS using jitter+adapt_diag...\n",
      "Sequential sampling (2 chains in 1 job)\n",
      "NUTS: [alpha]\n"
     ]
    },
    {
     "data": {
      "text/html": [
       "\n",
       "<style>\n",
       "    /* Turns off some styling */\n",
       "    progress {\n",
       "        /* gets rid of default border in Firefox and Opera. */\n",
       "        border: none;\n",
       "        /* Needs to be in here for Safari polyfill so background images work as expected. */\n",
       "        background-size: auto;\n",
       "    }\n",
       "    progress:not([value]), progress:not([value])::-webkit-progress-bar {\n",
       "        background: repeating-linear-gradient(45deg, #7e7e7e, #7e7e7e 10px, #5c5c5c 10px, #5c5c5c 20px);\n",
       "    }\n",
       "    .progress-bar-interrupted, .progress-bar-interrupted::-webkit-progress-bar {\n",
       "        background: #F44336;\n",
       "    }\n",
       "</style>\n"
      ],
      "text/plain": [
       "<IPython.core.display.HTML object>"
      ]
     },
     "metadata": {},
     "output_type": "display_data"
    },
    {
     "data": {
      "text/html": [
       "\n",
       "    <div>\n",
       "      <progress value='26000' class='' max='26000' style='width:300px; height:20px; vertical-align: middle;'></progress>\n",
       "      100.00% [26000/26000 00:13&lt;00:00 Sampling chain 0, 0 divergences]\n",
       "    </div>\n",
       "    "
      ],
      "text/plain": [
       "<IPython.core.display.HTML object>"
      ]
     },
     "metadata": {},
     "output_type": "display_data"
    },
    {
     "data": {
      "text/html": [
       "\n",
       "<style>\n",
       "    /* Turns off some styling */\n",
       "    progress {\n",
       "        /* gets rid of default border in Firefox and Opera. */\n",
       "        border: none;\n",
       "        /* Needs to be in here for Safari polyfill so background images work as expected. */\n",
       "        background-size: auto;\n",
       "    }\n",
       "    progress:not([value]), progress:not([value])::-webkit-progress-bar {\n",
       "        background: repeating-linear-gradient(45deg, #7e7e7e, #7e7e7e 10px, #5c5c5c 10px, #5c5c5c 20px);\n",
       "    }\n",
       "    .progress-bar-interrupted, .progress-bar-interrupted::-webkit-progress-bar {\n",
       "        background: #F44336;\n",
       "    }\n",
       "</style>\n"
      ],
      "text/plain": [
       "<IPython.core.display.HTML object>"
      ]
     },
     "metadata": {},
     "output_type": "display_data"
    },
    {
     "data": {
      "text/html": [
       "\n",
       "    <div>\n",
       "      <progress value='26000' class='' max='26000' style='width:300px; height:20px; vertical-align: middle;'></progress>\n",
       "      100.00% [26000/26000 00:12&lt;00:00 Sampling chain 1, 0 divergences]\n",
       "    </div>\n",
       "    "
      ],
      "text/plain": [
       "<IPython.core.display.HTML object>"
      ]
     },
     "metadata": {},
     "output_type": "display_data"
    },
    {
     "name": "stderr",
     "output_type": "stream",
     "text": [
      "Sampling 2 chains for 1_000 tune and 25_000 draw iterations (2_000 + 50_000 draws total) took 26 seconds.\n"
     ]
    },
    {
     "name": "stdout",
     "output_type": "stream",
     "text": [
      "       mean    sd  hdi_3%  hdi_97%  mcse_mean  mcse_sd  ess_bulk  ess_tail  \\\n",
      "alpha  1.14  1.02    0.04     2.98       0.01     0.01  14929.69   16411.8   \n",
      "\n",
      "       r_hat  \n",
      "alpha    1.0  \n",
      "[0.01       0.03666667 0.11666667 0.18333333 0.36666667 0.55      ]\n"
     ]
    },
    {
     "data": {
      "image/png": "[encoded data removed]",
      "text/plain": [
       "<Figure size 432x288 with 1 Axes>"
      ]
     },
     "metadata": {},
     "output_type": "display_data"
    },
    {
     "name": "stdout",
     "output_type": "stream",
     "text": [
      "curr_s: [2 2 1]\n",
      "[6.28619961e-07 3.53251779e-05 1.27874246e-03 5.19343478e-03\n",
      " 4.45543666e-02 1.56644479e-01]\n",
      "Selected dose: 1\n",
      "[-4.493104 -4.493104 -4.493104] [0 0 1]\n"
     ]
    },
    {
     "name": "stderr",
     "output_type": "stream",
     "text": [
      "Auto-assigning NUTS sampler...\n",
      "Initializing NUTS using jitter+adapt_diag...\n",
      "Sequential sampling (2 chains in 1 job)\n",
      "NUTS: [alpha]\n"
     ]
    },
    {
     "data": {
      "text/html": [
       "\n",
       "<style>\n",
       "    /* Turns off some styling */\n",
       "    progress {\n",
       "        /* gets rid of default border in Firefox and Opera. */\n",
       "        border: none;\n",
       "        /* Needs to be in here for Safari polyfill so background images work as expected. */\n",
       "        background-size: auto;\n",
       "    }\n",
       "    progress:not([value]), progress:not([value])::-webkit-progress-bar {\n",
       "        background: repeating-linear-gradient(45deg, #7e7e7e, #7e7e7e 10px, #5c5c5c 10px, #5c5c5c 20px);\n",
       "    }\n",
       "    .progress-bar-interrupted, .progress-bar-interrupted::-webkit-progress-bar {\n",
       "        background: #F44336;\n",
       "    }\n",
       "</style>\n"
      ],
      "text/plain": [
       "<IPython.core.display.HTML object>"
      ]
     },
     "metadata": {},
     "output_type": "display_data"
    },
    {
     "data": {
      "text/html": [
       "\n",
       "    <div>\n",
       "      <progress value='26000' class='' max='26000' style='width:300px; height:20px; vertical-align: middle;'></progress>\n",
       "      100.00% [26000/26000 00:20&lt;00:00 Sampling chain 0, 966 divergences]\n",
       "    </div>\n",
       "    "
      ],
      "text/plain": [
       "<IPython.core.display.HTML object>"
      ]
     },
     "metadata": {},
     "output_type": "display_data"
    },
    {
     "data": {
      "text/html": [
       "\n",
       "<style>\n",
       "    /* Turns off some styling */\n",
       "    progress {\n",
       "        /* gets rid of default border in Firefox and Opera. */\n",
       "        border: none;\n",
       "        /* Needs to be in here for Safari polyfill so background images work as expected. */\n",
       "        background-size: auto;\n",
       "    }\n",
       "    progress:not([value]), progress:not([value])::-webkit-progress-bar {\n",
       "        background: repeating-linear-gradient(45deg, #7e7e7e, #7e7e7e 10px, #5c5c5c 10px, #5c5c5c 20px);\n",
       "    }\n",
       "    .progress-bar-interrupted, .progress-bar-interrupted::-webkit-progress-bar {\n",
       "        background: #F44336;\n",
       "    }\n",
       "</style>\n"
      ],
      "text/plain": [
       "<IPython.core.display.HTML object>"
      ]
     },
     "metadata": {},
     "output_type": "display_data"
    },
    {
     "data": {
      "text/html": [
       "\n",
       "    <div>\n",
       "      <progress value='26000' class='' max='26000' style='width:300px; height:20px; vertical-align: middle;'></progress>\n",
       "      100.00% [26000/26000 00:25&lt;00:00 Sampling chain 1, 514 divergences]\n",
       "    </div>\n",
       "    "
      ],
      "text/plain": [
       "<IPython.core.display.HTML object>"
      ]
     },
     "metadata": {},
     "output_type": "display_data"
    },
    {
     "name": "stderr",
     "output_type": "stream",
     "text": [
      "Sampling 2 chains for 1_000 tune and 25_000 draw iterations (2_000 + 50_000 draws total) took 45 seconds.\n",
      "There were 966 divergences after tuning. Increase `target_accept` or reparameterize.\n",
      "There were 1480 divergences after tuning. Increase `target_accept` or reparameterize.\n"
     ]
    },
    {
     "name": "stdout",
     "output_type": "stream",
     "text": [
      "       mean    sd  hdi_3%  hdi_97%  mcse_mean  mcse_sd  ess_bulk  ess_tail  \\\n",
      "alpha  0.23  0.13    0.03     0.47        0.0      0.0   8880.86  10045.44   \n",
      "\n",
      "       r_hat  \n",
      "alpha    1.0  \n",
      "0.23148002495689884\n"
     ]
    },
    {
     "data": {
      "image/png": "[encoded data removed]",
      "text/plain": [
       "<Figure size 432x288 with 1 Axes>"
      ]
     },
     "metadata": {},
     "output_type": "display_data"
    },
    {
     "name": "stdout",
     "output_type": "stream",
     "text": [
      "curr_s: [0 0 1]\n",
      "[0.05514982 0.12491065 0.25875982 0.34388317 0.53189684 0.68648167]\n",
      "Selected dose: 2\n",
      "[-2.91856864 -2.91856864 -2.91856864] [1 0 0]\n"
     ]
    },
    {
     "name": "stderr",
     "output_type": "stream",
     "text": [
      "Auto-assigning NUTS sampler...\n",
      "Initializing NUTS using jitter+adapt_diag...\n",
      "Sequential sampling (2 chains in 1 job)\n",
      "NUTS: [alpha]\n"
     ]
    },
    {
     "data": {
      "text/html": [
       "\n",
       "<style>\n",
       "    /* Turns off some styling */\n",
       "    progress {\n",
       "        /* gets rid of default border in Firefox and Opera. */\n",
       "        border: none;\n",
       "        /* Needs to be in here for Safari polyfill so background images work as expected. */\n",
       "        background-size: auto;\n",
       "    }\n",
       "    progress:not([value]), progress:not([value])::-webkit-progress-bar {\n",
       "        background: repeating-linear-gradient(45deg, #7e7e7e, #7e7e7e 10px, #5c5c5c 10px, #5c5c5c 20px);\n",
       "    }\n",
       "    .progress-bar-interrupted, .progress-bar-interrupted::-webkit-progress-bar {\n",
       "        background: #F44336;\n",
       "    }\n",
       "</style>\n"
      ],
      "text/plain": [
       "<IPython.core.display.HTML object>"
      ]
     },
     "metadata": {},
     "output_type": "display_data"
    },
    {
     "data": {
      "text/html": [
       "\n",
       "    <div>\n",
       "      <progress value='26000' class='' max='26000' style='width:300px; height:20px; vertical-align: middle;'></progress>\n",
       "      100.00% [26000/26000 00:19&lt;00:00 Sampling chain 0, 144 divergences]\n",
       "    </div>\n",
       "    "
      ],
      "text/plain": [
       "<IPython.core.display.HTML object>"
      ]
     },
     "metadata": {},
     "output_type": "display_data"
    },
    {
     "data": {
      "text/html": [
       "\n",
       "<style>\n",
       "    /* Turns off some styling */\n",
       "    progress {\n",
       "        /* gets rid of default border in Firefox and Opera. */\n",
       "        border: none;\n",
       "        /* Needs to be in here for Safari polyfill so background images work as expected. */\n",
       "        background-size: auto;\n",
       "    }\n",
       "    progress:not([value]), progress:not([value])::-webkit-progress-bar {\n",
       "        background: repeating-linear-gradient(45deg, #7e7e7e, #7e7e7e 10px, #5c5c5c 10px, #5c5c5c 20px);\n",
       "    }\n",
       "    .progress-bar-interrupted, .progress-bar-interrupted::-webkit-progress-bar {\n",
       "        background: #F44336;\n",
       "    }\n",
       "</style>\n"
      ],
      "text/plain": [
       "<IPython.core.display.HTML object>"
      ]
     },
     "metadata": {},
     "output_type": "display_data"
    },
    {
     "data": {
      "text/html": [
       "\n",
       "    <div>\n",
       "      <progress value='26000' class='' max='26000' style='width:300px; height:20px; vertical-align: middle;'></progress>\n",
       "      100.00% [26000/26000 00:26&lt;00:00 Sampling chain 1, 13 divergences]\n",
       "    </div>\n",
       "    "
      ],
      "text/plain": [
       "<IPython.core.display.HTML object>"
      ]
     },
     "metadata": {},
     "output_type": "display_data"
    },
    {
     "name": "stderr",
     "output_type": "stream",
     "text": [
      "Sampling 2 chains for 1_000 tune and 25_000 draw iterations (2_000 + 50_000 draws total) took 45 seconds.\n",
      "There were 144 divergences after tuning. Increase `target_accept` or reparameterize.\n",
      "There were 157 divergences after tuning. Increase `target_accept` or reparameterize.\n"
     ]
    },
    {
     "name": "stdout",
     "output_type": "stream",
     "text": [
      "       mean    sd  hdi_3%  hdi_97%  mcse_mean  mcse_sd  ess_bulk  ess_tail  \\\n",
      "alpha  0.72  0.51     0.1     1.31       0.36      0.3      2.92     40.09   \n",
      "\n",
      "       r_hat  \n",
      "alpha   1.83  \n",
      "0.7209586407173094\n"
     ]
    },
    {
     "data": {
      "image/png": "[encoded data removed]",
      "text/plain": [
       "<Figure size 432x288 with 1 Axes>"
      ]
     },
     "metadata": {},
     "output_type": "display_data"
    },
    {
     "name": "stdout",
     "output_type": "stream",
     "text": [
      "curr_s: [1 0 0]\n",
      "[1.20354534e-04 1.53569151e-03 1.48399164e-02 3.59851710e-02\n",
      " 1.39982181e-01 3.09863846e-01]\n",
      "Selected dose: 3\n",
      "[-2.30071997 -2.30071997 -2.30071997] [1 0 1]\n"
     ]
    },
    {
     "name": "stderr",
     "output_type": "stream",
     "text": [
      "Auto-assigning NUTS sampler...\n",
      "Initializing NUTS using jitter+adapt_diag...\n",
      "Sequential sampling (2 chains in 1 job)\n",
      "NUTS: [alpha]\n"
     ]
    },
    {
     "data": {
      "text/html": [
       "\n",
       "<style>\n",
       "    /* Turns off some styling */\n",
       "    progress {\n",
       "        /* gets rid of default border in Firefox and Opera. */\n",
       "        border: none;\n",
       "        /* Needs to be in here for Safari polyfill so background images work as expected. */\n",
       "        background-size: auto;\n",
       "    }\n",
       "    progress:not([value]), progress:not([value])::-webkit-progress-bar {\n",
       "        background: repeating-linear-gradient(45deg, #7e7e7e, #7e7e7e 10px, #5c5c5c 10px, #5c5c5c 20px);\n",
       "    }\n",
       "    .progress-bar-interrupted, .progress-bar-interrupted::-webkit-progress-bar {\n",
       "        background: #F44336;\n",
       "    }\n",
       "</style>\n"
      ],
      "text/plain": [
       "<IPython.core.display.HTML object>"
      ]
     },
     "metadata": {},
     "output_type": "display_data"
    },
    {
     "data": {
      "text/html": [
       "\n",
       "    <div>\n",
       "      <progress value='26000' class='' max='26000' style='width:300px; height:20px; vertical-align: middle;'></progress>\n",
       "      100.00% [26000/26000 00:19&lt;00:00 Sampling chain 0, 124 divergences]\n",
       "    </div>\n",
       "    "
      ],
      "text/plain": [
       "<IPython.core.display.HTML object>"
      ]
     },
     "metadata": {},
     "output_type": "display_data"
    },
    {
     "data": {
      "text/html": [
       "\n",
       "<style>\n",
       "    /* Turns off some styling */\n",
       "    progress {\n",
       "        /* gets rid of default border in Firefox and Opera. */\n",
       "        border: none;\n",
       "        /* Needs to be in here for Safari polyfill so background images work as expected. */\n",
       "        background-size: auto;\n",
       "    }\n",
       "    progress:not([value]), progress:not([value])::-webkit-progress-bar {\n",
       "        background: repeating-linear-gradient(45deg, #7e7e7e, #7e7e7e 10px, #5c5c5c 10px, #5c5c5c 20px);\n",
       "    }\n",
       "    .progress-bar-interrupted, .progress-bar-interrupted::-webkit-progress-bar {\n",
       "        background: #F44336;\n",
       "    }\n",
       "</style>\n"
      ],
      "text/plain": [
       "<IPython.core.display.HTML object>"
      ]
     },
     "metadata": {},
     "output_type": "display_data"
    },
    {
     "data": {
      "text/html": [
       "\n",
       "    <div>\n",
       "      <progress value='26000' class='' max='26000' style='width:300px; height:20px; vertical-align: middle;'></progress>\n",
       "      100.00% [26000/26000 00:20&lt;00:00 Sampling chain 1, 93 divergences]\n",
       "    </div>\n",
       "    "
      ],
      "text/plain": [
       "<IPython.core.display.HTML object>"
      ]
     },
     "metadata": {},
     "output_type": "display_data"
    },
    {
     "name": "stderr",
     "output_type": "stream",
     "text": [
      "Sampling 2 chains for 1_000 tune and 25_000 draw iterations (2_000 + 50_000 draws total) took 40 seconds.\n",
      "There were 124 divergences after tuning. Increase `target_accept` or reparameterize.\n",
      "There were 217 divergences after tuning. Increase `target_accept` or reparameterize.\n"
     ]
    },
    {
     "name": "stdout",
     "output_type": "stream",
     "text": [
      "       mean    sd  hdi_3%  hdi_97%  mcse_mean  mcse_sd  ess_bulk  ess_tail  \\\n",
      "alpha  0.18  0.07    0.05     0.31        0.0      0.0  10511.13   10471.0   \n",
      "\n",
      "       r_hat  \n",
      "alpha    1.0  \n",
      "0.1765094513591784\n"
     ]
    },
    {
     "data": {
      "image/png": "[encoded data removed]",
      "text/plain": [
       "<Figure size 432x288 with 1 Axes>"
      ]
     },
     "metadata": {},
     "output_type": "display_data"
    },
    {
     "name": "stdout",
     "output_type": "stream",
     "text": [
      "curr_s: [0 0 1]\n",
      "[0.10974763 0.20470759 0.35671289 0.44309969 0.61792586 0.75062908]\n",
      "Selected dose: 2\n",
      "[-2.91856864 -2.91856864 -2.91856864] [0 0 1]\n"
     ]
    },
    {
     "name": "stderr",
     "output_type": "stream",
     "text": [
      "Auto-assigning NUTS sampler...\n",
      "Initializing NUTS using jitter+adapt_diag...\n",
      "Sequential sampling (2 chains in 1 job)\n",
      "NUTS: [alpha]\n"
     ]
    },
    {
     "data": {
      "text/html": [
       "\n",
       "<style>\n",
       "    /* Turns off some styling */\n",
       "    progress {\n",
       "        /* gets rid of default border in Firefox and Opera. */\n",
       "        border: none;\n",
       "        /* Needs to be in here for Safari polyfill so background images work as expected. */\n",
       "        background-size: auto;\n",
       "    }\n",
       "    progress:not([value]), progress:not([value])::-webkit-progress-bar {\n",
       "        background: repeating-linear-gradient(45deg, #7e7e7e, #7e7e7e 10px, #5c5c5c 10px, #5c5c5c 20px);\n",
       "    }\n",
       "    .progress-bar-interrupted, .progress-bar-interrupted::-webkit-progress-bar {\n",
       "        background: #F44336;\n",
       "    }\n",
       "</style>\n"
      ],
      "text/plain": [
       "<IPython.core.display.HTML object>"
      ]
     },
     "metadata": {},
     "output_type": "display_data"
    },
    {
     "data": {
      "text/html": [
       "\n",
       "    <div>\n",
       "      <progress value='26000' class='' max='26000' style='width:300px; height:20px; vertical-align: middle;'></progress>\n",
       "      100.00% [26000/26000 00:18&lt;00:00 Sampling chain 0, 25 divergences]\n",
       "    </div>\n",
       "    "
      ],
      "text/plain": [
       "<IPython.core.display.HTML object>"
      ]
     },
     "metadata": {},
     "output_type": "display_data"
    },
    {
     "data": {
      "text/html": [
       "\n",
       "<style>\n",
       "    /* Turns off some styling */\n",
       "    progress {\n",
       "        /* gets rid of default border in Firefox and Opera. */\n",
       "        border: none;\n",
       "        /* Needs to be in here for Safari polyfill so background images work as expected. */\n",
       "        background-size: auto;\n",
       "    }\n",
       "    progress:not([value]), progress:not([value])::-webkit-progress-bar {\n",
       "        background: repeating-linear-gradient(45deg, #7e7e7e, #7e7e7e 10px, #5c5c5c 10px, #5c5c5c 20px);\n",
       "    }\n",
       "    .progress-bar-interrupted, .progress-bar-interrupted::-webkit-progress-bar {\n",
       "        background: #F44336;\n",
       "    }\n",
       "</style>\n"
      ],
      "text/plain": [
       "<IPython.core.display.HTML object>"
      ]
     },
     "metadata": {},
     "output_type": "display_data"
    },
    {
     "data": {
      "text/html": [
       "\n",
       "    <div>\n",
       "      <progress value='26000' class='' max='26000' style='width:300px; height:20px; vertical-align: middle;'></progress>\n",
       "      100.00% [26000/26000 00:17&lt;00:00 Sampling chain 1, 18 divergences]\n",
       "    </div>\n",
       "    "
      ],
      "text/plain": [
       "<IPython.core.display.HTML object>"
      ]
     },
     "metadata": {},
     "output_type": "display_data"
    },
    {
     "name": "stderr",
     "output_type": "stream",
     "text": [
      "Sampling 2 chains for 1_000 tune and 25_000 draw iterations (2_000 + 50_000 draws total) took 36 seconds.\n",
      "There were 25 divergences after tuning. Increase `target_accept` or reparameterize.\n",
      "There were 43 divergences after tuning. Increase `target_accept` or reparameterize.\n"
     ]
    },
    {
     "name": "stdout",
     "output_type": "stream",
     "text": [
      "       mean    sd  hdi_3%  hdi_97%  mcse_mean  mcse_sd  ess_bulk  ess_tail  \\\n",
      "alpha  0.18  0.07    0.07      0.3        0.0      0.0  13354.86  12145.89   \n",
      "\n",
      "       r_hat  \n",
      "alpha    1.0  \n",
      "0.17998768997866743\n"
     ]
    },
    {
     "data": {
      "image/png": "[encoded data removed]",
      "text/plain": [
       "<Figure size 432x288 with 1 Axes>"
      ]
     },
     "metadata": {},
     "output_type": "display_data"
    },
    {
     "name": "stdout",
     "output_type": "stream",
     "text": [
      "curr_s: [1 0 1]\n",
      "[0.10507163 0.19840808 0.34954004 0.43604922 0.6120919  0.74639816]\n",
      "Selected dose: 2\n",
      "[-2.91856864 -2.91856864 -2.91856864] [1 1 0]\n"
     ]
    },
    {
     "name": "stderr",
     "output_type": "stream",
     "text": [
      "Auto-assigning NUTS sampler...\n",
      "Initializing NUTS using jitter+adapt_diag...\n",
      "Sequential sampling (2 chains in 1 job)\n",
      "NUTS: [alpha]\n"
     ]
    },
    {
     "data": {
      "text/html": [
       "\n",
       "<style>\n",
       "    /* Turns off some styling */\n",
       "    progress {\n",
       "        /* gets rid of default border in Firefox and Opera. */\n",
       "        border: none;\n",
       "        /* Needs to be in here for Safari polyfill so background images work as expected. */\n",
       "        background-size: auto;\n",
       "    }\n",
       "    progress:not([value]), progress:not([value])::-webkit-progress-bar {\n",
       "        background: repeating-linear-gradient(45deg, #7e7e7e, #7e7e7e 10px, #5c5c5c 10px, #5c5c5c 20px);\n",
       "    }\n",
       "    .progress-bar-interrupted, .progress-bar-interrupted::-webkit-progress-bar {\n",
       "        background: #F44336;\n",
       "    }\n",
       "</style>\n"
      ],
      "text/plain": [
       "<IPython.core.display.HTML object>"
      ]
     },
     "metadata": {},
     "output_type": "display_data"
    },
    {
     "data": {
      "text/html": [
       "\n",
       "    <div>\n",
       "      <progress value='26000' class='' max='26000' style='width:300px; height:20px; vertical-align: middle;'></progress>\n",
       "      100.00% [26000/26000 00:18&lt;00:00 Sampling chain 0, 9 divergences]\n",
       "    </div>\n",
       "    "
      ],
      "text/plain": [
       "<IPython.core.display.HTML object>"
      ]
     },
     "metadata": {},
     "output_type": "display_data"
    },
    {
     "data": {
      "text/html": [
       "\n",
       "<style>\n",
       "    /* Turns off some styling */\n",
       "    progress {\n",
       "        /* gets rid of default border in Firefox and Opera. */\n",
       "        border: none;\n",
       "        /* Needs to be in here for Safari polyfill so background images work as expected. */\n",
       "        background-size: auto;\n",
       "    }\n",
       "    progress:not([value]), progress:not([value])::-webkit-progress-bar {\n",
       "        background: repeating-linear-gradient(45deg, #7e7e7e, #7e7e7e 10px, #5c5c5c 10px, #5c5c5c 20px);\n",
       "    }\n",
       "    .progress-bar-interrupted, .progress-bar-interrupted::-webkit-progress-bar {\n",
       "        background: #F44336;\n",
       "    }\n",
       "</style>\n"
      ],
      "text/plain": [
       "<IPython.core.display.HTML object>"
      ]
     },
     "metadata": {},
     "output_type": "display_data"
    },
    {
     "data": {
      "text/html": [
       "\n",
       "    <div>\n",
       "      <progress value='26000' class='' max='26000' style='width:300px; height:20px; vertical-align: middle;'></progress>\n",
       "      100.00% [26000/26000 00:18&lt;00:00 Sampling chain 1, 14 divergences]\n",
       "    </div>\n",
       "    "
      ],
      "text/plain": [
       "<IPython.core.display.HTML object>"
      ]
     },
     "metadata": {},
     "output_type": "display_data"
    },
    {
     "name": "stderr",
     "output_type": "stream",
     "text": [
      "Sampling 2 chains for 1_000 tune and 25_000 draw iterations (2_000 + 50_000 draws total) took 37 seconds.\n",
      "There were 9 divergences after tuning. Increase `target_accept` or reparameterize.\n",
      "There were 23 divergences after tuning. Increase `target_accept` or reparameterize.\n"
     ]
    },
    {
     "name": "stdout",
     "output_type": "stream",
     "text": [
      "       mean    sd  hdi_3%  hdi_97%  mcse_mean  mcse_sd  ess_bulk  ess_tail  \\\n",
      "alpha  0.15  0.05    0.06     0.25        0.0      0.0   13516.4  12975.27   \n",
      "\n",
      "       r_hat  \n",
      "alpha    1.0  \n",
      "0.15207634227223252\n"
     ]
    },
    {
     "data": {
      "image/png": "[encoded data removed]",
      "text/plain": [
       "<Figure size 432x288 with 1 Axes>"
      ]
     },
     "metadata": {},
     "output_type": "display_data"
    },
    {
     "name": "stdout",
     "output_type": "stream",
     "text": [
      "curr_s: [0 0 1]\n",
      "[0.14901407 0.25497018 0.41142297 0.49594562 0.66050446 0.78103317]\n",
      "Selected dose: 2\n",
      "[-2.91856864 -2.91856864 -2.91856864] [0 0 0]\n"
     ]
    },
    {
     "name": "stderr",
     "output_type": "stream",
     "text": [
      "Auto-assigning NUTS sampler...\n",
      "Initializing NUTS using jitter+adapt_diag...\n",
      "Sequential sampling (2 chains in 1 job)\n",
      "NUTS: [alpha]\n"
     ]
    },
    {
     "data": {
      "text/html": [
       "\n",
       "<style>\n",
       "    /* Turns off some styling */\n",
       "    progress {\n",
       "        /* gets rid of default border in Firefox and Opera. */\n",
       "        border: none;\n",
       "        /* Needs to be in here for Safari polyfill so background images work as expected. */\n",
       "        background-size: auto;\n",
       "    }\n",
       "    progress:not([value]), progress:not([value])::-webkit-progress-bar {\n",
       "        background: repeating-linear-gradient(45deg, #7e7e7e, #7e7e7e 10px, #5c5c5c 10px, #5c5c5c 20px);\n",
       "    }\n",
       "    .progress-bar-interrupted, .progress-bar-interrupted::-webkit-progress-bar {\n",
       "        background: #F44336;\n",
       "    }\n",
       "</style>\n"
      ],
      "text/plain": [
       "<IPython.core.display.HTML object>"
      ]
     },
     "metadata": {},
     "output_type": "display_data"
    },
    {
     "data": {
      "text/html": [
       "\n",
       "    <div>\n",
       "      <progress value='26000' class='' max='26000' style='width:300px; height:20px; vertical-align: middle;'></progress>\n",
       "      100.00% [26000/26000 00:19&lt;00:00 Sampling chain 0, 17 divergences]\n",
       "    </div>\n",
       "    "
      ],
      "text/plain": [
       "<IPython.core.display.HTML object>"
      ]
     },
     "metadata": {},
     "output_type": "display_data"
    },
    {
     "data": {
      "text/html": [
       "\n",
       "<style>\n",
       "    /* Turns off some styling */\n",
       "    progress {\n",
       "        /* gets rid of default border in Firefox and Opera. */\n",
       "        border: none;\n",
       "        /* Needs to be in here for Safari polyfill so background images work as expected. */\n",
       "        background-size: auto;\n",
       "    }\n",
       "    progress:not([value]), progress:not([value])::-webkit-progress-bar {\n",
       "        background: repeating-linear-gradient(45deg, #7e7e7e, #7e7e7e 10px, #5c5c5c 10px, #5c5c5c 20px);\n",
       "    }\n",
       "    .progress-bar-interrupted, .progress-bar-interrupted::-webkit-progress-bar {\n",
       "        background: #F44336;\n",
       "    }\n",
       "</style>\n"
      ],
      "text/plain": [
       "<IPython.core.display.HTML object>"
      ]
     },
     "metadata": {},
     "output_type": "display_data"
    },
    {
     "data": {
      "text/html": [
       "\n",
       "    <div>\n",
       "      <progress value='26000' class='' max='26000' style='width:300px; height:20px; vertical-align: middle;'></progress>\n",
       "      100.00% [26000/26000 00:19&lt;00:00 Sampling chain 1, 20 divergences]\n",
       "    </div>\n",
       "    "
      ],
      "text/plain": [
       "<IPython.core.display.HTML object>"
      ]
     },
     "metadata": {},
     "output_type": "display_data"
    },
    {
     "name": "stderr",
     "output_type": "stream",
     "text": [
      "Sampling 2 chains for 1_000 tune and 25_000 draw iterations (2_000 + 50_000 draws total) took 39 seconds.\n",
      "There were 17 divergences after tuning. Increase `target_accept` or reparameterize.\n",
      "There were 37 divergences after tuning. Increase `target_accept` or reparameterize.\n"
     ]
    },
    {
     "name": "stdout",
     "output_type": "stream",
     "text": [
      "       mean    sd  hdi_3%  hdi_97%  mcse_mean  mcse_sd  ess_bulk  ess_tail  \\\n",
      "alpha  0.19  0.09    0.08     0.29        0.0      0.0   6938.43   3767.04   \n",
      "\n",
      "       r_hat  \n",
      "alpha    1.0  \n",
      "0.18867990425847303\n"
     ]
    },
    {
     "data": {
      "image/png": "[encoded data removed]",
      "text/plain": [
       "<Figure size 432x288 with 1 Axes>"
      ]
     },
     "metadata": {},
     "output_type": "display_data"
    },
    {
     "name": "stdout",
     "output_type": "stream",
     "text": [
      "curr_s: [0 1 0]\n",
      "[0.09423879 0.18350003 0.33223919 0.4189165  0.59775234 0.73592893]\n",
      "Selected dose: 2\n",
      "[-2.91856864 -2.91856864 -2.91856864] [1 0 1]\n"
     ]
    },
    {
     "name": "stderr",
     "output_type": "stream",
     "text": [
      "Auto-assigning NUTS sampler...\n",
      "Initializing NUTS using jitter+adapt_diag...\n",
      "Sequential sampling (2 chains in 1 job)\n",
      "NUTS: [alpha]\n"
     ]
    },
    {
     "data": {
      "text/html": [
       "\n",
       "<style>\n",
       "    /* Turns off some styling */\n",
       "    progress {\n",
       "        /* gets rid of default border in Firefox and Opera. */\n",
       "        border: none;\n",
       "        /* Needs to be in here for Safari polyfill so background images work as expected. */\n",
       "        background-size: auto;\n",
       "    }\n",
       "    progress:not([value]), progress:not([value])::-webkit-progress-bar {\n",
       "        background: repeating-linear-gradient(45deg, #7e7e7e, #7e7e7e 10px, #5c5c5c 10px, #5c5c5c 20px);\n",
       "    }\n",
       "    .progress-bar-interrupted, .progress-bar-interrupted::-webkit-progress-bar {\n",
       "        background: #F44336;\n",
       "    }\n",
       "</style>\n"
      ],
      "text/plain": [
       "<IPython.core.display.HTML object>"
      ]
     },
     "metadata": {},
     "output_type": "display_data"
    },
    {
     "data": {
      "text/html": [
       "\n",
       "    <div>\n",
       "      <progress value='26000' class='' max='26000' style='width:300px; height:20px; vertical-align: middle;'></progress>\n",
       "      100.00% [26000/26000 00:21&lt;00:00 Sampling chain 0, 62 divergences]\n",
       "    </div>\n",
       "    "
      ],
      "text/plain": [
       "<IPython.core.display.HTML object>"
      ]
     },
     "metadata": {},
     "output_type": "display_data"
    },
    {
     "data": {
      "text/html": [
       "\n",
       "<style>\n",
       "    /* Turns off some styling */\n",
       "    progress {\n",
       "        /* gets rid of default border in Firefox and Opera. */\n",
       "        border: none;\n",
       "        /* Needs to be in here for Safari polyfill so background images work as expected. */\n",
       "        background-size: auto;\n",
       "    }\n",
       "    progress:not([value]), progress:not([value])::-webkit-progress-bar {\n",
       "        background: repeating-linear-gradient(45deg, #7e7e7e, #7e7e7e 10px, #5c5c5c 10px, #5c5c5c 20px);\n",
       "    }\n",
       "    .progress-bar-interrupted, .progress-bar-interrupted::-webkit-progress-bar {\n",
       "        background: #F44336;\n",
       "    }\n",
       "</style>\n"
      ],
      "text/plain": [
       "<IPython.core.display.HTML object>"
      ]
     },
     "metadata": {},
     "output_type": "display_data"
    },
    {
     "data": {
      "text/html": [
       "\n",
       "    <div>\n",
       "      <progress value='26000' class='' max='26000' style='width:300px; height:20px; vertical-align: middle;'></progress>\n",
       "      100.00% [26000/26000 00:18&lt;00:00 Sampling chain 1, 96 divergences]\n",
       "    </div>\n",
       "    "
      ],
      "text/plain": [
       "<IPython.core.display.HTML object>"
      ]
     },
     "metadata": {},
     "output_type": "display_data"
    },
    {
     "name": "stderr",
     "output_type": "stream",
     "text": [
      "Sampling 2 chains for 1_000 tune and 25_000 draw iterations (2_000 + 50_000 draws total) took 40 seconds.\n",
      "There were 62 divergences after tuning. Increase `target_accept` or reparameterize.\n",
      "There were 158 divergences after tuning. Increase `target_accept` or reparameterize.\n"
     ]
    },
    {
     "name": "stdout",
     "output_type": "stream",
     "text": [
      "       mean    sd  hdi_3%  hdi_97%  mcse_mean  mcse_sd  ess_bulk  ess_tail  \\\n",
      "alpha  0.16  0.05    0.07     0.25        0.0      0.0  12854.15  13398.47   \n",
      "\n",
      "       r_hat  \n",
      "alpha    1.0  \n",
      "0.15931338208622273\n"
     ]
    },
    {
     "data": {
      "image/png": "[encoded data removed]",
      "text/plain": [
       "<Figure size 432x288 with 1 Axes>"
      ]
     },
     "metadata": {},
     "output_type": "display_data"
    },
    {
     "name": "stdout",
     "output_type": "stream",
     "text": [
      "curr_s: [1 0 1]\n",
      "[0.13610769 0.23891603 0.39439665 0.47966752 0.64759571 0.77190137]\n",
      "Selected dose: 2\n",
      "[-2.91856864 -2.91856864 -2.91856864] [1 0 1]\n"
     ]
    },
    {
     "name": "stderr",
     "output_type": "stream",
     "text": [
      "Auto-assigning NUTS sampler...\n",
      "Initializing NUTS using jitter+adapt_diag...\n",
      "Sequential sampling (2 chains in 1 job)\n",
      "NUTS: [alpha]\n"
     ]
    },
    {
     "data": {
      "text/html": [
       "\n",
       "<style>\n",
       "    /* Turns off some styling */\n",
       "    progress {\n",
       "        /* gets rid of default border in Firefox and Opera. */\n",
       "        border: none;\n",
       "        /* Needs to be in here for Safari polyfill so background images work as expected. */\n",
       "        background-size: auto;\n",
       "    }\n",
       "    progress:not([value]), progress:not([value])::-webkit-progress-bar {\n",
       "        background: repeating-linear-gradient(45deg, #7e7e7e, #7e7e7e 10px, #5c5c5c 10px, #5c5c5c 20px);\n",
       "    }\n",
       "    .progress-bar-interrupted, .progress-bar-interrupted::-webkit-progress-bar {\n",
       "        background: #F44336;\n",
       "    }\n",
       "</style>\n"
      ],
      "text/plain": [
       "<IPython.core.display.HTML object>"
      ]
     },
     "metadata": {},
     "output_type": "display_data"
    },
    {
     "data": {
      "text/html": [
       "\n",
       "    <div>\n",
       "      <progress value='26000' class='' max='26000' style='width:300px; height:20px; vertical-align: middle;'></progress>\n",
       "      100.00% [26000/26000 00:19&lt;00:00 Sampling chain 0, 55 divergences]\n",
       "    </div>\n",
       "    "
      ],
      "text/plain": [
       "<IPython.core.display.HTML object>"
      ]
     },
     "metadata": {},
     "output_type": "display_data"
    },
    {
     "data": {
      "text/html": [
       "\n",
       "<style>\n",
       "    /* Turns off some styling */\n",
       "    progress {\n",
       "        /* gets rid of default border in Firefox and Opera. */\n",
       "        border: none;\n",
       "        /* Needs to be in here for Safari polyfill so background images work as expected. */\n",
       "        background-size: auto;\n",
       "    }\n",
       "    progress:not([value]), progress:not([value])::-webkit-progress-bar {\n",
       "        background: repeating-linear-gradient(45deg, #7e7e7e, #7e7e7e 10px, #5c5c5c 10px, #5c5c5c 20px);\n",
       "    }\n",
       "    .progress-bar-interrupted, .progress-bar-interrupted::-webkit-progress-bar {\n",
       "        background: #F44336;\n",
       "    }\n",
       "</style>\n"
      ],
      "text/plain": [
       "<IPython.core.display.HTML object>"
      ]
     },
     "metadata": {},
     "output_type": "display_data"
    },
    {
     "data": {
      "text/html": [
       "\n",
       "    <div>\n",
       "      <progress value='26000' class='' max='26000' style='width:300px; height:20px; vertical-align: middle;'></progress>\n",
       "      100.00% [26000/26000 00:17&lt;00:00 Sampling chain 1, 79 divergences]\n",
       "    </div>\n",
       "    "
      ],
      "text/plain": [
       "<IPython.core.display.HTML object>"
      ]
     },
     "metadata": {},
     "output_type": "display_data"
    },
    {
     "name": "stderr",
     "output_type": "stream",
     "text": [
      "Sampling 2 chains for 1_000 tune and 25_000 draw iterations (2_000 + 50_000 draws total) took 37 seconds.\n",
      "There were 55 divergences after tuning. Increase `target_accept` or reparameterize.\n",
      "There were 134 divergences after tuning. Increase `target_accept` or reparameterize.\n"
     ]
    },
    {
     "name": "stdout",
     "output_type": "stream",
     "text": [
      "       mean    sd  hdi_3%  hdi_97%  mcse_mean  mcse_sd  ess_bulk  ess_tail  \\\n",
      "alpha  0.14  0.04    0.07     0.23        0.0      0.0  14983.95  13483.33   \n",
      "\n",
      "       r_hat  \n",
      "alpha    1.0  \n",
      "0.14449956968762814\n"
     ]
    },
    {
     "data": {
      "image/png": "[encoded data removed]",
      "text/plain": [
       "<Figure size 432x288 with 1 Axes>"
      ]
     },
     "metadata": {},
     "output_type": "display_data"
    },
    {
     "name": "stdout",
     "output_type": "stream",
     "text": [
      "curr_s: [1 1 2]\n",
      "[0.1638396  0.27293509 0.43003669 0.51358011 0.67429499 0.79070943]\n",
      "Selected dose: 1\n",
      "[-4.493104 -4.493104 -4.493104] [1 1 1]\n"
     ]
    },
    {
     "name": "stderr",
     "output_type": "stream",
     "text": [
      "Auto-assigning NUTS sampler...\n",
      "Initializing NUTS using jitter+adapt_diag...\n",
      "Sequential sampling (2 chains in 1 job)\n",
      "NUTS: [alpha]\n"
     ]
    },
    {
     "data": {
      "text/html": [
       "\n",
       "<style>\n",
       "    /* Turns off some styling */\n",
       "    progress {\n",
       "        /* gets rid of default border in Firefox and Opera. */\n",
       "        border: none;\n",
       "        /* Needs to be in here for Safari polyfill so background images work as expected. */\n",
       "        background-size: auto;\n",
       "    }\n",
       "    progress:not([value]), progress:not([value])::-webkit-progress-bar {\n",
       "        background: repeating-linear-gradient(45deg, #7e7e7e, #7e7e7e 10px, #5c5c5c 10px, #5c5c5c 20px);\n",
       "    }\n",
       "    .progress-bar-interrupted, .progress-bar-interrupted::-webkit-progress-bar {\n",
       "        background: #F44336;\n",
       "    }\n",
       "</style>\n"
      ],
      "text/plain": [
       "<IPython.core.display.HTML object>"
      ]
     },
     "metadata": {},
     "output_type": "display_data"
    },
    {
     "data": {
      "text/html": [
       "\n",
       "    <div>\n",
       "      <progress value='26000' class='' max='26000' style='width:300px; height:20px; vertical-align: middle;'></progress>\n",
       "      100.00% [26000/26000 00:19&lt;00:00 Sampling chain 0, 597 divergences]\n",
       "    </div>\n",
       "    "
      ],
      "text/plain": [
       "<IPython.core.display.HTML object>"
      ]
     },
     "metadata": {},
     "output_type": "display_data"
    },
    {
     "data": {
      "text/html": [
       "\n",
       "<style>\n",
       "    /* Turns off some styling */\n",
       "    progress {\n",
       "        /* gets rid of default border in Firefox and Opera. */\n",
       "        border: none;\n",
       "        /* Needs to be in here for Safari polyfill so background images work as expected. */\n",
       "        background-size: auto;\n",
       "    }\n",
       "    progress:not([value]), progress:not([value])::-webkit-progress-bar {\n",
       "        background: repeating-linear-gradient(45deg, #7e7e7e, #7e7e7e 10px, #5c5c5c 10px, #5c5c5c 20px);\n",
       "    }\n",
       "    .progress-bar-interrupted, .progress-bar-interrupted::-webkit-progress-bar {\n",
       "        background: #F44336;\n",
       "    }\n",
       "</style>\n"
      ],
      "text/plain": [
       "<IPython.core.display.HTML object>"
      ]
     },
     "metadata": {},
     "output_type": "display_data"
    },
    {
     "data": {
      "text/html": [
       "\n",
       "    <div>\n",
       "      <progress value='26000' class='' max='26000' style='width:300px; height:20px; vertical-align: middle;'></progress>\n",
       "      100.00% [26000/26000 00:18&lt;00:00 Sampling chain 1, 590 divergences]\n",
       "    </div>\n",
       "    "
      ],
      "text/plain": [
       "<IPython.core.display.HTML object>"
      ]
     },
     "metadata": {},
     "output_type": "display_data"
    },
    {
     "name": "stderr",
     "output_type": "stream",
     "text": [
      "Sampling 2 chains for 1_000 tune and 25_000 draw iterations (2_000 + 50_000 draws total) took 37 seconds.\n",
      "There were 597 divergences after tuning. Increase `target_accept` or reparameterize.\n",
      "There were 1187 divergences after tuning. Increase `target_accept` or reparameterize.\n"
     ]
    },
    {
     "name": "stdout",
     "output_type": "stream",
     "text": [
      "       mean    sd  hdi_3%  hdi_97%  mcse_mean  mcse_sd  ess_bulk  ess_tail  \\\n",
      "alpha   0.1  0.04    0.04     0.17        0.0      0.0  13681.52  13783.55   \n",
      "\n",
      "       r_hat  \n",
      "alpha    1.0  \n",
      "0.10192932956641884\n"
     ]
    },
    {
     "data": {
      "image/png": "[encoded data removed]",
      "text/plain": [
       "<Figure size 432x288 with 1 Axes>"
      ]
     },
     "metadata": {},
     "output_type": "display_data"
    }
   ],
   "source": [
    "main()\n"
   ]
  },
  {
   "cell_type": "code",
   "execution_count": null,
   "metadata": {},
   "outputs": [],
   "source": []
  }
 ],
 "metadata": {
  "kernelspec": {
   "display_name": "Python 3",
   "language": "python",
   "name": "python3"
  },
  "language_info": {
   "codemirror_mode": {
    "name": "ipython",
    "version": 3
   },
   "file_extension": ".py",
   "mimetype": "text/x-python",
   "name": "python",
   "nbconvert_exporter": "python",
   "pygments_lexer": "ipython3",
   "version": "3.8.5"
  },
  "vscode": {
   "interpreter": {
    "hash": "0885fb3a554a0f8c9af0e82d78dfc796e751951a35c142f19b895630dcb282a4"
   }
  }
 },
 "nbformat": 4,
 "nbformat_minor": 4
}
